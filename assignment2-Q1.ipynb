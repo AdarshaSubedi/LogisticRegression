{
 "cells": [
  {
   "cell_type": "markdown",
   "id": "baf74bbe-011f-4085-896a-0055acc6ba2c",
   "metadata": {},
   "source": [
    "# Assignment 2"
   ]
  },
  {
   "cell_type": "markdown",
   "id": "a5c72b34-3e51-4fc8-9c3c-1fea21e4f28d",
   "metadata": {},
   "source": [
    "## Q1"
   ]
  },
  {
   "cell_type": "code",
   "execution_count": 1,
   "id": "3a77a776-4368-4e1a-ba08-ea8d79202a77",
   "metadata": {},
   "outputs": [],
   "source": [
    "import pandas as pd\n",
    "pd.set_option('future.no_silent_downcasting', True) #disables the automatic downcasting of data types ()"
   ]
  },
  {
   "cell_type": "code",
   "execution_count": 2,
   "id": "6e102357-3d8d-409c-950c-3e63bee7daf4",
   "metadata": {},
   "outputs": [],
   "source": [
    "df = pd.read_csv('./Cancer_dataset1.csv')"
   ]
  },
  {
   "cell_type": "code",
   "execution_count": 3,
   "id": "8689ac76-3f01-4289-9204-2814d1c83583",
   "metadata": {},
   "outputs": [],
   "source": [
    "def stats(data, cols):\n",
    "    filtered_data = data[columns]\n",
    "    for column in filtered_data.columns:\n",
    "        print(f\"################ {column} Stats ##################\")\n",
    "\n",
    "        col = df[column]\n",
    "        \n",
    "        print(f\"{column} count = {col.shape[0]}\")\n",
    "        print(f\"{column} mean = {col.mean()}\")\n",
    "        print(f\"{column} standard deviation = {col.std()}\")\n",
    "        print(f\"{column} minimum = {col.min()}\")\n",
    "        print(f\"{column} 25% percentile = {col.quantile(0.25)}\")\n",
    "        print(f\"{column} 50% percentile = {col.quantile(0.5)}\")\n",
    "        print(f\"{column} 75% percentile = {col.quantile(0.75)}\")\n",
    "        print(f\"{column} maximum = {col.max()}\")\n",
    "\n",
    "        print(\"\\n\")\n"
   ]
  },
  {
   "cell_type": "code",
   "execution_count": 4,
   "id": "abba2e8e-601f-436a-9e8d-4094a70b5c1c",
   "metadata": {},
   "outputs": [],
   "source": [
    "columns = ['mean_radius', 'mean_texture', 'mean_perimeter', 'mean_area', 'mean_smoothness', 'mean_compactness', 'mean_concavity','mean_concave_points']\n",
    "# stats(df, columns)"
   ]
  },
  {
   "cell_type": "code",
   "execution_count": 5,
   "id": "d1ba9e8a-12fd-441f-984f-f0fd307363a2",
   "metadata": {},
   "outputs": [
    {
     "name": "stdout",
     "output_type": "stream",
     "text": [
      "total rows = 198\n",
      "unique values = ['N' 'R']\n",
      "top value = N\n",
      "top value frequency = 151\n",
      "unique value frequency = outcome\n",
      "N    151\n",
      "R     47\n",
      "Name: count, dtype: int64\n"
     ]
    }
   ],
   "source": [
    "#Summarize the statistics of variable into count, unique value, top value, and frequency of top value. \n",
    "outcome = df['outcome']\n",
    "count = outcome.shape[0]\n",
    "print(f\"total rows = {count}\")\n",
    "\n",
    "unique_value = outcome.unique()\n",
    "print(f\"unique values = {unique_value}\")\n",
    "\n",
    "top_value = outcome.value_counts().index[0]\n",
    "print(f\"top value = {top_value}\")\n",
    "\n",
    "frequency_top = outcome.value_counts().max()\n",
    "print(f\"top value frequency = {frequency_top}\")  \n",
    "\n",
    "unique_val_counts = outcome.value_counts()\n",
    "print(f\"unique value frequency = {unique_val_counts}\")"
   ]
  },
  {
   "cell_type": "code",
   "execution_count": 6,
   "id": "45804106-0ba2-4eec-a964-ff2c1768dd22",
   "metadata": {},
   "outputs": [],
   "source": [
    "# Encoding categorical to numerical\n",
    "# R: Recurrence of the cancer.\n",
    "# N: No recurrence of the cancer.\n",
    "\n",
    "#label encoding: replacing category to integer value (since the category is of only two type, One-hot Encoding is not used)\n",
    "encoded_outcome = outcome.replace({'R': 1, 'N': 0})\n",
    "# encoded_outcome"
   ]
  },
  {
   "cell_type": "code",
   "execution_count": 7,
   "id": "5d09cab1-2b07-4990-af3e-91e914b43ae6",
   "metadata": {},
   "outputs": [
    {
     "name": "stdout",
     "output_type": "stream",
     "text": [
      "correlation between mean_perimeter and se_perimeter = 0.6099643781634989\n"
     ]
    }
   ],
   "source": [
    "# correlation between mean_perimeter and se_perimeter\n",
    "print(f\"correlation between mean_perimeter and se_perimeter = {df['mean_perimeter'].corr(df['se_perimeter'])}\")"
   ]
  },
  {
   "cell_type": "code",
   "execution_count": null,
   "id": "9aa4f342-aa6d-4b61-9d95-abb69bc1f41d",
   "metadata": {},
   "outputs": [],
   "source": []
  },
  {
   "cell_type": "code",
   "execution_count": null,
   "id": "f04be888-1ec0-4f01-a9b8-0bd4a4aa81ee",
   "metadata": {},
   "outputs": [],
   "source": []
  },
  {
   "cell_type": "code",
   "execution_count": 8,
   "id": "83f437c2-dad6-4820-8242-ab0eccc3f23b",
   "metadata": {},
   "outputs": [
    {
     "data": {
      "text/html": [
       "<div>\n",
       "<style scoped>\n",
       "    .dataframe tbody tr th:only-of-type {\n",
       "        vertical-align: middle;\n",
       "    }\n",
       "\n",
       "    .dataframe tbody tr th {\n",
       "        vertical-align: top;\n",
       "    }\n",
       "\n",
       "    .dataframe thead th {\n",
       "        text-align: right;\n",
       "    }\n",
       "</style>\n",
       "<table border=\"1\" class=\"dataframe\">\n",
       "  <thead>\n",
       "    <tr style=\"text-align: right;\">\n",
       "      <th></th>\n",
       "      <th>id</th>\n",
       "      <th>outcome</th>\n",
       "      <th>time</th>\n",
       "      <th>mean_radius</th>\n",
       "      <th>mean_texture</th>\n",
       "      <th>mean_perimeter</th>\n",
       "      <th>mean_area</th>\n",
       "      <th>mean_smoothness</th>\n",
       "      <th>mean_compactness</th>\n",
       "      <th>mean_concavity</th>\n",
       "      <th>...</th>\n",
       "      <th>worst_perimeter</th>\n",
       "      <th>worst_area</th>\n",
       "      <th>worst_smoothness</th>\n",
       "      <th>worst_compactness</th>\n",
       "      <th>worst_concavity</th>\n",
       "      <th>worst_concave_points</th>\n",
       "      <th>worst_symmetry</th>\n",
       "      <th>worst_fractal_dimension</th>\n",
       "      <th>tumor_size</th>\n",
       "      <th>lymph_node_status</th>\n",
       "    </tr>\n",
       "  </thead>\n",
       "  <tbody>\n",
       "    <tr>\n",
       "      <th>0</th>\n",
       "      <td>119513</td>\n",
       "      <td>N</td>\n",
       "      <td>31</td>\n",
       "      <td>18.02</td>\n",
       "      <td>27.60</td>\n",
       "      <td>117.50</td>\n",
       "      <td>1013.0</td>\n",
       "      <td>0.09489</td>\n",
       "      <td>0.1036</td>\n",
       "      <td>0.1086</td>\n",
       "      <td>...</td>\n",
       "      <td>139.70</td>\n",
       "      <td>1436.0</td>\n",
       "      <td>0.1195</td>\n",
       "      <td>0.1926</td>\n",
       "      <td>0.3140</td>\n",
       "      <td>0.1170</td>\n",
       "      <td>0.2677</td>\n",
       "      <td>0.08113</td>\n",
       "      <td>5.0</td>\n",
       "      <td>5.0</td>\n",
       "    </tr>\n",
       "    <tr>\n",
       "      <th>1</th>\n",
       "      <td>8423</td>\n",
       "      <td>N</td>\n",
       "      <td>61</td>\n",
       "      <td>17.99</td>\n",
       "      <td>10.38</td>\n",
       "      <td>122.80</td>\n",
       "      <td>1001.0</td>\n",
       "      <td>0.11840</td>\n",
       "      <td>0.2776</td>\n",
       "      <td>0.3001</td>\n",
       "      <td>...</td>\n",
       "      <td>184.60</td>\n",
       "      <td>2019.0</td>\n",
       "      <td>0.1622</td>\n",
       "      <td>0.6656</td>\n",
       "      <td>0.7119</td>\n",
       "      <td>0.2654</td>\n",
       "      <td>0.4601</td>\n",
       "      <td>0.11890</td>\n",
       "      <td>3.0</td>\n",
       "      <td>2.0</td>\n",
       "    </tr>\n",
       "    <tr>\n",
       "      <th>2</th>\n",
       "      <td>842517</td>\n",
       "      <td>N</td>\n",
       "      <td>116</td>\n",
       "      <td>21.37</td>\n",
       "      <td>17.44</td>\n",
       "      <td>137.50</td>\n",
       "      <td>1373.0</td>\n",
       "      <td>0.08836</td>\n",
       "      <td>0.1189</td>\n",
       "      <td>0.1255</td>\n",
       "      <td>...</td>\n",
       "      <td>159.10</td>\n",
       "      <td>1949.0</td>\n",
       "      <td>0.1188</td>\n",
       "      <td>0.3449</td>\n",
       "      <td>0.3414</td>\n",
       "      <td>0.2032</td>\n",
       "      <td>0.4334</td>\n",
       "      <td>0.09067</td>\n",
       "      <td>2.5</td>\n",
       "      <td>0.0</td>\n",
       "    </tr>\n",
       "    <tr>\n",
       "      <th>3</th>\n",
       "      <td>843483</td>\n",
       "      <td>N</td>\n",
       "      <td>123</td>\n",
       "      <td>11.42</td>\n",
       "      <td>20.38</td>\n",
       "      <td>77.58</td>\n",
       "      <td>386.1</td>\n",
       "      <td>0.14250</td>\n",
       "      <td>0.2839</td>\n",
       "      <td>0.2414</td>\n",
       "      <td>...</td>\n",
       "      <td>98.87</td>\n",
       "      <td>567.7</td>\n",
       "      <td>0.2098</td>\n",
       "      <td>0.8663</td>\n",
       "      <td>0.6869</td>\n",
       "      <td>0.2575</td>\n",
       "      <td>0.6638</td>\n",
       "      <td>0.17300</td>\n",
       "      <td>2.0</td>\n",
       "      <td>0.0</td>\n",
       "    </tr>\n",
       "    <tr>\n",
       "      <th>4</th>\n",
       "      <td>843584</td>\n",
       "      <td>R</td>\n",
       "      <td>27</td>\n",
       "      <td>20.29</td>\n",
       "      <td>14.34</td>\n",
       "      <td>135.10</td>\n",
       "      <td>1297.0</td>\n",
       "      <td>0.10030</td>\n",
       "      <td>0.1328</td>\n",
       "      <td>0.1980</td>\n",
       "      <td>...</td>\n",
       "      <td>152.20</td>\n",
       "      <td>1575.0</td>\n",
       "      <td>0.1374</td>\n",
       "      <td>0.2050</td>\n",
       "      <td>0.4000</td>\n",
       "      <td>0.1625</td>\n",
       "      <td>0.2364</td>\n",
       "      <td>0.07678</td>\n",
       "      <td>3.5</td>\n",
       "      <td>0.0</td>\n",
       "    </tr>\n",
       "  </tbody>\n",
       "</table>\n",
       "<p>5 rows × 35 columns</p>\n",
       "</div>"
      ],
      "text/plain": [
       "       id outcome  time  mean_radius  mean_texture  mean_perimeter  mean_area  \\\n",
       "0  119513       N    31        18.02         27.60          117.50     1013.0   \n",
       "1    8423       N    61        17.99         10.38          122.80     1001.0   \n",
       "2  842517       N   116        21.37         17.44          137.50     1373.0   \n",
       "3  843483       N   123        11.42         20.38           77.58      386.1   \n",
       "4  843584       R    27        20.29         14.34          135.10     1297.0   \n",
       "\n",
       "   mean_smoothness  mean_compactness  mean_concavity  ...  worst_perimeter  \\\n",
       "0          0.09489            0.1036          0.1086  ...           139.70   \n",
       "1          0.11840            0.2776          0.3001  ...           184.60   \n",
       "2          0.08836            0.1189          0.1255  ...           159.10   \n",
       "3          0.14250            0.2839          0.2414  ...            98.87   \n",
       "4          0.10030            0.1328          0.1980  ...           152.20   \n",
       "\n",
       "   worst_area  worst_smoothness  worst_compactness  worst_concavity  \\\n",
       "0      1436.0            0.1195             0.1926           0.3140   \n",
       "1      2019.0            0.1622             0.6656           0.7119   \n",
       "2      1949.0            0.1188             0.3449           0.3414   \n",
       "3       567.7            0.2098             0.8663           0.6869   \n",
       "4      1575.0            0.1374             0.2050           0.4000   \n",
       "\n",
       "   worst_concave_points  worst_symmetry  worst_fractal_dimension  tumor_size  \\\n",
       "0                0.1170          0.2677                  0.08113         5.0   \n",
       "1                0.2654          0.4601                  0.11890         3.0   \n",
       "2                0.2032          0.4334                  0.09067         2.5   \n",
       "3                0.2575          0.6638                  0.17300         2.0   \n",
       "4                0.1625          0.2364                  0.07678         3.5   \n",
       "\n",
       "   lymph_node_status  \n",
       "0                5.0  \n",
       "1                2.0  \n",
       "2                0.0  \n",
       "3                0.0  \n",
       "4                0.0  \n",
       "\n",
       "[5 rows x 35 columns]"
      ]
     },
     "execution_count": 8,
     "metadata": {},
     "output_type": "execute_result"
    }
   ],
   "source": [
    "df.head()"
   ]
  },
  {
   "cell_type": "code",
   "execution_count": 30,
   "id": "8e078ef6-5dad-4689-b014-a17e78450ddd",
   "metadata": {},
   "outputs": [],
   "source": [
    "# df.info()"
   ]
  },
  {
   "cell_type": "code",
   "execution_count": 31,
   "id": "d6d66afb-111d-47ea-8fca-b74f103a4c25",
   "metadata": {},
   "outputs": [],
   "source": [
    "# df.isnull().sum()"
   ]
  },
  {
   "cell_type": "code",
   "execution_count": 1,
   "id": "eebdb530-a03b-45af-892b-47788576a050",
   "metadata": {},
   "outputs": [],
   "source": [
    "import seaborn as sns\n",
    "import matplotlib.pyplot as plt"
   ]
  },
  {
   "cell_type": "code",
   "execution_count": 33,
   "id": "b0710739-1cd7-4d8e-900d-5b3fa0dcbeac",
   "metadata": {},
   "outputs": [],
   "source": [
    "# corr_matrix = df.drop(columns=['outcome', 'id']).corr()\n",
    "\n",
    "# plt.figure(figsize=(20,20))\n",
    "# sns.heatmap(corr_matrix, annot=True, cmap=\"coolwarm\", fmt=\".2f\")\n",
    "# plt.title(\"Correlation Matrix Heatmap\")\n",
    "# plt.show()"
   ]
  },
  {
   "cell_type": "code",
   "execution_count": 3,
   "id": "565a134d-3138-4b6c-8b41-2efe5e47b702",
   "metadata": {},
   "outputs": [],
   "source": [
    "#import libraries\n",
    "import numpy as np\n",
    "import matplotlib.pyplot as plt\n",
    "import copy\n",
    "import math"
   ]
  },
  {
   "cell_type": "code",
   "execution_count": null,
   "id": "faf2a36c-add6-4fce-89cd-1372106f51ff",
   "metadata": {},
   "outputs": [],
   "source": [
    "# df\n",
    "class ManipulateData:\n",
    "\n",
    "    def __init__(self, file):\n",
    "        self.file = file\n",
    "\n",
    "    "
   ]
  }
 ],
 "metadata": {
  "kernelspec": {
   "display_name": "Python 3 (ipykernel)",
   "language": "python",
   "name": "python3"
  },
  "language_info": {
   "codemirror_mode": {
    "name": "ipython",
    "version": 3
   },
   "file_extension": ".py",
   "mimetype": "text/x-python",
   "name": "python",
   "nbconvert_exporter": "python",
   "pygments_lexer": "ipython3",
   "version": "3.13.2"
  }
 },
 "nbformat": 4,
 "nbformat_minor": 5
}
