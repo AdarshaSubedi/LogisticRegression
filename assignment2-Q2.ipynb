{
 "cells": [
  {
   "cell_type": "markdown",
   "id": "baf74bbe-011f-4085-896a-0055acc6ba2c",
   "metadata": {},
   "source": [
    "# Assignment 2"
   ]
  },
  {
   "cell_type": "markdown",
   "id": "7b6f8ecd-699a-4491-b2ab-32101413ec9e",
   "metadata": {
    "jp-MarkdownHeadingCollapsed": true
   },
   "source": [
    "## Q1"
   ]
  },
  {
   "cell_type": "code",
   "execution_count": 1,
   "id": "3a77a776-4368-4e1a-ba08-ea8d79202a77",
   "metadata": {},
   "outputs": [],
   "source": [
    "import pandas as pd\n",
    "pd.set_option('future.no_silent_downcasting', True) #disables the automatic downcasting of data types ()"
   ]
  },
  {
   "cell_type": "code",
   "execution_count": 2,
   "id": "6e102357-3d8d-409c-950c-3e63bee7daf4",
   "metadata": {},
   "outputs": [],
   "source": [
    "df = pd.read_csv('./Cancer_dataset1.csv')"
   ]
  },
  {
   "cell_type": "code",
   "execution_count": 3,
   "id": "8689ac76-3f01-4289-9204-2814d1c83583",
   "metadata": {},
   "outputs": [],
   "source": [
    "def stats(data, cols):\n",
    "    filtered_data = data[columns]\n",
    "    for column in filtered_data.columns:\n",
    "        print(f\"################ {column} Stats ##################\")\n",
    "\n",
    "        col = df[column]\n",
    "        \n",
    "        print(f\"{column} count = {col.shape[0]}\")\n",
    "        print(f\"{column} mean = {col.mean()}\")\n",
    "        print(f\"{column} standard deviation = {col.std()}\")\n",
    "        print(f\"{column} minimum = {col.min()}\")\n",
    "        print(f\"{column} 25% percentile = {col.quantile(0.25)}\")\n",
    "        print(f\"{column} 50% percentile = {col.quantile(0.5)}\")\n",
    "        print(f\"{column} 75% percentile = {col.quantile(0.75)}\")\n",
    "        print(f\"{column} maximum = {col.max()}\")\n",
    "\n",
    "        print(\"\\n\")\n"
   ]
  },
  {
   "cell_type": "code",
   "execution_count": 4,
   "id": "abba2e8e-601f-436a-9e8d-4094a70b5c1c",
   "metadata": {},
   "outputs": [],
   "source": [
    "columns = ['mean_radius', 'mean_texture', 'mean_perimeter', 'mean_area', 'mean_smoothness', 'mean_compactness', 'mean_concavity','mean_concave_points']\n",
    "# stats(df, columns)"
   ]
  },
  {
   "cell_type": "code",
   "execution_count": 5,
   "id": "d1ba9e8a-12fd-441f-984f-f0fd307363a2",
   "metadata": {},
   "outputs": [
    {
     "name": "stdout",
     "output_type": "stream",
     "text": [
      "total rows = 198\n",
      "unique values = ['N' 'R']\n",
      "top value = N\n",
      "top value frequency = 151\n",
      "unique value frequency = outcome\n",
      "N    151\n",
      "R     47\n",
      "Name: count, dtype: int64\n"
     ]
    }
   ],
   "source": [
    "#Summarize the statistics of variable into count, unique value, top value, and frequency of top value. \n",
    "outcome = df['outcome']\n",
    "count = outcome.shape[0]\n",
    "print(f\"total rows = {count}\")\n",
    "\n",
    "unique_value = outcome.unique()\n",
    "print(f\"unique values = {unique_value}\")\n",
    "\n",
    "top_value = outcome.value_counts().index[0]\n",
    "print(f\"top value = {top_value}\")\n",
    "\n",
    "frequency_top = outcome.value_counts().max()\n",
    "print(f\"top value frequency = {frequency_top}\")  \n",
    "\n",
    "unique_val_counts = outcome.value_counts()\n",
    "print(f\"unique value frequency = {unique_val_counts}\")"
   ]
  },
  {
   "cell_type": "code",
   "execution_count": 6,
   "id": "45804106-0ba2-4eec-a964-ff2c1768dd22",
   "metadata": {},
   "outputs": [],
   "source": [
    "# Encoding categorical to numerical\n",
    "# R: Recurrence of the cancer.\n",
    "# N: No recurrence of the cancer.\n",
    "\n",
    "#label encoding: replacing category to integer value (since the category is of only two type, One-hot Encoding is not used)\n",
    "encoded_outcome = outcome.replace({'R': 1, 'N': 0})\n",
    "# encoded_outcome"
   ]
  },
  {
   "cell_type": "code",
   "execution_count": 7,
   "id": "5d09cab1-2b07-4990-af3e-91e914b43ae6",
   "metadata": {},
   "outputs": [
    {
     "name": "stdout",
     "output_type": "stream",
     "text": [
      "correlation between mean_perimeter and se_perimeter = 0.6099643781634989\n"
     ]
    }
   ],
   "source": [
    "# correlation between mean_perimeter and se_perimeter\n",
    "print(f\"correlation between mean_perimeter and se_perimeter = {df['mean_perimeter'].corr(df['se_perimeter'])}\")"
   ]
  },
  {
   "cell_type": "code",
   "execution_count": null,
   "id": "9aa4f342-aa6d-4b61-9d95-abb69bc1f41d",
   "metadata": {},
   "outputs": [],
   "source": []
  },
  {
   "cell_type": "code",
   "execution_count": null,
   "id": "f04be888-1ec0-4f01-a9b8-0bd4a4aa81ee",
   "metadata": {},
   "outputs": [],
   "source": []
  },
  {
   "cell_type": "code",
   "execution_count": 8,
   "id": "83f437c2-dad6-4820-8242-ab0eccc3f23b",
   "metadata": {},
   "outputs": [
    {
     "data": {
      "text/html": [
       "<div>\n",
       "<style scoped>\n",
       "    .dataframe tbody tr th:only-of-type {\n",
       "        vertical-align: middle;\n",
       "    }\n",
       "\n",
       "    .dataframe tbody tr th {\n",
       "        vertical-align: top;\n",
       "    }\n",
       "\n",
       "    .dataframe thead th {\n",
       "        text-align: right;\n",
       "    }\n",
       "</style>\n",
       "<table border=\"1\" class=\"dataframe\">\n",
       "  <thead>\n",
       "    <tr style=\"text-align: right;\">\n",
       "      <th></th>\n",
       "      <th>id</th>\n",
       "      <th>outcome</th>\n",
       "      <th>time</th>\n",
       "      <th>mean_radius</th>\n",
       "      <th>mean_texture</th>\n",
       "      <th>mean_perimeter</th>\n",
       "      <th>mean_area</th>\n",
       "      <th>mean_smoothness</th>\n",
       "      <th>mean_compactness</th>\n",
       "      <th>mean_concavity</th>\n",
       "      <th>...</th>\n",
       "      <th>worst_perimeter</th>\n",
       "      <th>worst_area</th>\n",
       "      <th>worst_smoothness</th>\n",
       "      <th>worst_compactness</th>\n",
       "      <th>worst_concavity</th>\n",
       "      <th>worst_concave_points</th>\n",
       "      <th>worst_symmetry</th>\n",
       "      <th>worst_fractal_dimension</th>\n",
       "      <th>tumor_size</th>\n",
       "      <th>lymph_node_status</th>\n",
       "    </tr>\n",
       "  </thead>\n",
       "  <tbody>\n",
       "    <tr>\n",
       "      <th>0</th>\n",
       "      <td>119513</td>\n",
       "      <td>N</td>\n",
       "      <td>31</td>\n",
       "      <td>18.02</td>\n",
       "      <td>27.60</td>\n",
       "      <td>117.50</td>\n",
       "      <td>1013.0</td>\n",
       "      <td>0.09489</td>\n",
       "      <td>0.1036</td>\n",
       "      <td>0.1086</td>\n",
       "      <td>...</td>\n",
       "      <td>139.70</td>\n",
       "      <td>1436.0</td>\n",
       "      <td>0.1195</td>\n",
       "      <td>0.1926</td>\n",
       "      <td>0.3140</td>\n",
       "      <td>0.1170</td>\n",
       "      <td>0.2677</td>\n",
       "      <td>0.08113</td>\n",
       "      <td>5.0</td>\n",
       "      <td>5.0</td>\n",
       "    </tr>\n",
       "    <tr>\n",
       "      <th>1</th>\n",
       "      <td>8423</td>\n",
       "      <td>N</td>\n",
       "      <td>61</td>\n",
       "      <td>17.99</td>\n",
       "      <td>10.38</td>\n",
       "      <td>122.80</td>\n",
       "      <td>1001.0</td>\n",
       "      <td>0.11840</td>\n",
       "      <td>0.2776</td>\n",
       "      <td>0.3001</td>\n",
       "      <td>...</td>\n",
       "      <td>184.60</td>\n",
       "      <td>2019.0</td>\n",
       "      <td>0.1622</td>\n",
       "      <td>0.6656</td>\n",
       "      <td>0.7119</td>\n",
       "      <td>0.2654</td>\n",
       "      <td>0.4601</td>\n",
       "      <td>0.11890</td>\n",
       "      <td>3.0</td>\n",
       "      <td>2.0</td>\n",
       "    </tr>\n",
       "    <tr>\n",
       "      <th>2</th>\n",
       "      <td>842517</td>\n",
       "      <td>N</td>\n",
       "      <td>116</td>\n",
       "      <td>21.37</td>\n",
       "      <td>17.44</td>\n",
       "      <td>137.50</td>\n",
       "      <td>1373.0</td>\n",
       "      <td>0.08836</td>\n",
       "      <td>0.1189</td>\n",
       "      <td>0.1255</td>\n",
       "      <td>...</td>\n",
       "      <td>159.10</td>\n",
       "      <td>1949.0</td>\n",
       "      <td>0.1188</td>\n",
       "      <td>0.3449</td>\n",
       "      <td>0.3414</td>\n",
       "      <td>0.2032</td>\n",
       "      <td>0.4334</td>\n",
       "      <td>0.09067</td>\n",
       "      <td>2.5</td>\n",
       "      <td>0.0</td>\n",
       "    </tr>\n",
       "    <tr>\n",
       "      <th>3</th>\n",
       "      <td>843483</td>\n",
       "      <td>N</td>\n",
       "      <td>123</td>\n",
       "      <td>11.42</td>\n",
       "      <td>20.38</td>\n",
       "      <td>77.58</td>\n",
       "      <td>386.1</td>\n",
       "      <td>0.14250</td>\n",
       "      <td>0.2839</td>\n",
       "      <td>0.2414</td>\n",
       "      <td>...</td>\n",
       "      <td>98.87</td>\n",
       "      <td>567.7</td>\n",
       "      <td>0.2098</td>\n",
       "      <td>0.8663</td>\n",
       "      <td>0.6869</td>\n",
       "      <td>0.2575</td>\n",
       "      <td>0.6638</td>\n",
       "      <td>0.17300</td>\n",
       "      <td>2.0</td>\n",
       "      <td>0.0</td>\n",
       "    </tr>\n",
       "    <tr>\n",
       "      <th>4</th>\n",
       "      <td>843584</td>\n",
       "      <td>R</td>\n",
       "      <td>27</td>\n",
       "      <td>20.29</td>\n",
       "      <td>14.34</td>\n",
       "      <td>135.10</td>\n",
       "      <td>1297.0</td>\n",
       "      <td>0.10030</td>\n",
       "      <td>0.1328</td>\n",
       "      <td>0.1980</td>\n",
       "      <td>...</td>\n",
       "      <td>152.20</td>\n",
       "      <td>1575.0</td>\n",
       "      <td>0.1374</td>\n",
       "      <td>0.2050</td>\n",
       "      <td>0.4000</td>\n",
       "      <td>0.1625</td>\n",
       "      <td>0.2364</td>\n",
       "      <td>0.07678</td>\n",
       "      <td>3.5</td>\n",
       "      <td>0.0</td>\n",
       "    </tr>\n",
       "  </tbody>\n",
       "</table>\n",
       "<p>5 rows × 35 columns</p>\n",
       "</div>"
      ],
      "text/plain": [
       "       id outcome  time  mean_radius  mean_texture  mean_perimeter  mean_area  \\\n",
       "0  119513       N    31        18.02         27.60          117.50     1013.0   \n",
       "1    8423       N    61        17.99         10.38          122.80     1001.0   \n",
       "2  842517       N   116        21.37         17.44          137.50     1373.0   \n",
       "3  843483       N   123        11.42         20.38           77.58      386.1   \n",
       "4  843584       R    27        20.29         14.34          135.10     1297.0   \n",
       "\n",
       "   mean_smoothness  mean_compactness  mean_concavity  ...  worst_perimeter  \\\n",
       "0          0.09489            0.1036          0.1086  ...           139.70   \n",
       "1          0.11840            0.2776          0.3001  ...           184.60   \n",
       "2          0.08836            0.1189          0.1255  ...           159.10   \n",
       "3          0.14250            0.2839          0.2414  ...            98.87   \n",
       "4          0.10030            0.1328          0.1980  ...           152.20   \n",
       "\n",
       "   worst_area  worst_smoothness  worst_compactness  worst_concavity  \\\n",
       "0      1436.0            0.1195             0.1926           0.3140   \n",
       "1      2019.0            0.1622             0.6656           0.7119   \n",
       "2      1949.0            0.1188             0.3449           0.3414   \n",
       "3       567.7            0.2098             0.8663           0.6869   \n",
       "4      1575.0            0.1374             0.2050           0.4000   \n",
       "\n",
       "   worst_concave_points  worst_symmetry  worst_fractal_dimension  tumor_size  \\\n",
       "0                0.1170          0.2677                  0.08113         5.0   \n",
       "1                0.2654          0.4601                  0.11890         3.0   \n",
       "2                0.2032          0.4334                  0.09067         2.5   \n",
       "3                0.2575          0.6638                  0.17300         2.0   \n",
       "4                0.1625          0.2364                  0.07678         3.5   \n",
       "\n",
       "   lymph_node_status  \n",
       "0                5.0  \n",
       "1                2.0  \n",
       "2                0.0  \n",
       "3                0.0  \n",
       "4                0.0  \n",
       "\n",
       "[5 rows x 35 columns]"
      ]
     },
     "execution_count": 8,
     "metadata": {},
     "output_type": "execute_result"
    }
   ],
   "source": [
    "df.head()"
   ]
  },
  {
   "cell_type": "code",
   "execution_count": 9,
   "id": "8e078ef6-5dad-4689-b014-a17e78450ddd",
   "metadata": {},
   "outputs": [],
   "source": [
    "# df.info()"
   ]
  },
  {
   "cell_type": "code",
   "execution_count": 10,
   "id": "d6d66afb-111d-47ea-8fca-b74f103a4c25",
   "metadata": {},
   "outputs": [],
   "source": [
    "# df.isnull().sum()"
   ]
  },
  {
   "cell_type": "code",
   "execution_count": 11,
   "id": "eebdb530-a03b-45af-892b-47788576a050",
   "metadata": {},
   "outputs": [],
   "source": [
    "import seaborn as sns\n",
    "import matplotlib.pyplot as plt"
   ]
  },
  {
   "cell_type": "code",
   "execution_count": 12,
   "id": "b0710739-1cd7-4d8e-900d-5b3fa0dcbeac",
   "metadata": {},
   "outputs": [],
   "source": [
    "# corr_matrix = df.drop(columns=['outcome', 'id']).corr()\n",
    "\n",
    "# plt.figure(figsize=(20,20))\n",
    "# sns.heatmap(corr_matrix, annot=True, cmap=\"coolwarm\", fmt=\".2f\")\n",
    "# plt.title(\"Correlation Matrix Heatmap\")\n",
    "# plt.show()"
   ]
  },
  {
   "cell_type": "markdown",
   "id": "bf9688f5-6681-4672-a5c8-0aa0acfb4b36",
   "metadata": {},
   "source": [
    "## Q2"
   ]
  },
  {
   "cell_type": "code",
   "execution_count": 13,
   "id": "565a134d-3138-4b6c-8b41-2efe5e47b702",
   "metadata": {},
   "outputs": [],
   "source": [
    "#import libraries\n",
    "import numpy as np\n",
    "import pandas as pd\n",
    "pd.set_option('future.no_silent_downcasting', True) #disables the automatic downcasting of data types ()\n",
    "import matplotlib.pyplot as plt\n",
    "import copy\n",
    "import math"
   ]
  },
  {
   "cell_type": "code",
   "execution_count": 14,
   "id": "faf2a36c-add6-4fce-89cd-1372106f51ff",
   "metadata": {},
   "outputs": [],
   "source": [
    "# This class manipulates data from a csv file\n",
    "class ManipulateData:\n",
    "\n",
    "    #initialize file\n",
    "    def __init__(self, file):\n",
    "        self.file = file\n",
    "\n",
    "    #Reads the supplied file and shuffles the data\n",
    "    def filter_data(self):\n",
    "        data = pd.read_csv(self.file).dropna()\n",
    "        data = data.sample(frac = 1, random_state=30) #shuffling and ensuring everytime output is same shuffled data\n",
    "        return data\n",
    "\n",
    "    #Filter with respect to column passed as an argument \n",
    "    def seperate_columns(self, data, columns):\n",
    "        data = data[columns]\n",
    "        return data\n",
    "\n",
    "    #splits data to train and test data and returns train and test data as numpy array\n",
    "    #only training percentage is passed as an argument \n",
    "    def split_data(self, data, percent):\n",
    "        data_array = data.to_numpy()\n",
    "        train_size = math.floor(len(data_array)*percent) #takes integer as training size\n",
    "        #training and testing data are seperated as two numpy arrays inside tuple\n",
    "        train_data, test_data = data_array[:train_size,:], data_array[train_size:,:] \n",
    "\n",
    "        \n",
    "        train_length = train_data.shape[0]\n",
    "        test_length = test_data.shape[0]\n",
    "        print(f\"total training rows: {train_length}\\ntotal testing rows: {test_length}\")\n",
    "        \n",
    "        return train_data, test_data\n",
    "\n",
    "    #seperate features and target\n",
    "    def seperate_target(self, data):\n",
    "        rows = data.shape[0]\n",
    "        features = []\n",
    "        target = []\n",
    "        for row in range(rows):\n",
    "            features.append(data[row, :-1])\n",
    "            target.append(data[row, -1])\n",
    "        return np.array(features), np.array(target)\n",
    "\n",
    "    # scale features using mean normalization and returns numpy array\n",
    "    def scale_features(self, data):\n",
    "        # calculate mean, minimum, and maximum for each column of the features\n",
    "        feature_mean = np.mean(data, axis=0) #axis 0 refers to the column and axis 1 for row\n",
    "        feature_max = np.max(data, axis=0)\n",
    "        feature_min = np.min(data, axis=0)\n",
    "\n",
    "        scaled_data = []\n",
    "\n",
    "        # normalize and append each rows of features to new array \n",
    "        for row in data:\n",
    "            scaled_row = []\n",
    "            for i in range(len(row)):\n",
    "                scaled_value = (row[i] - feature_mean[i]) / (feature_max[i] - feature_min[i])\n",
    "                scaled_row.append(scaled_value)\n",
    "            scaled_data.append(scaled_row)\n",
    "\n",
    "        return np.array(scaled_data)\n",
    "    "
   ]
  },
  {
   "cell_type": "code",
   "execution_count": 15,
   "id": "f53e1dfb-d9f7-4fe7-b2e2-16e6298027b1",
   "metadata": {},
   "outputs": [],
   "source": [
    "# Read file and clear out null values\n",
    "file = 'Cancer_dataset1.csv'\n",
    "\n",
    "df = ManipulateData(file)\n",
    "data = df.filter_data() #cleans out rows containing null values and shuffles the data\n",
    "data['outcome'] = data['outcome'].replace({'R': 1, 'N': 0}).astype(float)"
   ]
  },
  {
   "cell_type": "code",
   "execution_count": 16,
   "id": "c86656ce-80a0-44d1-97f9-7064ce7eebf6",
   "metadata": {},
   "outputs": [
    {
     "name": "stdout",
     "output_type": "stream",
     "text": [
      "total training rows: 145\n",
      "total testing rows: 37\n"
     ]
    }
   ],
   "source": [
    "#first seperate columns by passing column names and after required columns are obtained from the data we split 80% of data as training data\n",
    "#index of the columns defined will be the same index on the array as well\n",
    "columns = ['mean_area', 'outcome'] #the final column will be the target value when you use 'seperate_target(data) method\n",
    "sprtd_data = df.seperate_columns(data, columns)\n",
    "\n",
    "split_percent = 0.8\n",
    "train_data, test_data = df.split_data(sprtd_data, split_percent)\n",
    "\n",
    "# now seperate features and target as two seperate arrays with each features index corresponding to target index\n",
    "features, target = df.seperate_target(train_data)\n",
    "test_features, test_target = df.seperate_target(test_data)"
   ]
  },
  {
   "cell_type": "code",
   "execution_count": 17,
   "id": "28e65b11-7424-4dfc-99c9-bd8a9509b297",
   "metadata": {},
   "outputs": [
    {
     "data": {
      "image/png": "[encoded data removed]",
      "text/plain": [
       "<Figure size 1000x200 with 1 Axes>"
      ]
     },
     "metadata": {},
     "output_type": "display_data"
    }
   ],
   "source": [
    "plt.figure(figsize=(10,2))\n",
    "plt.scatter(features[target==0], target[target==0], color='red', label=\"N (No recurrence) / 0\")\n",
    "plt.scatter(features[target==1], target[target==1], color='blue', label=\"R (Recurrence) / 1\")\n",
    "plt.xlabel('mean_area')\n",
    "plt.ylabel('outcome')\n",
    "plt.show()"
   ]
  },
  {
   "cell_type": "code",
   "execution_count": 18,
   "id": "977774ff-405d-4157-9f6e-d2b626b98d75",
   "metadata": {},
   "outputs": [],
   "source": [
    "class LL:\n",
    "    # calculating cost using vectorization('np.dot()')\n",
    "    def calculate_cost(self, features, target, th0, thj):\n",
    "            \n",
    "        m = features.shape[0]\n",
    "\n",
    "        # use vectorization to find dot product of two matrices (features and weights)\n",
    "        y_predict = th0 + np.dot(features, thj)\n",
    "\n",
    "        sigmoid = 1/(1+np.exp(-y_predict))\n",
    "        # print(f'sigmoid = {sigmoid}')\n",
    "        \n",
    "        cost = (target * np.log(sigmoid) + ((1-target) * np.log(1 - sigmoid)))\n",
    "        \n",
    "        total_cost = np.sum(cost) * (-1/m)\n",
    "    \n",
    "        return total_cost"
   ]
  },
  {
   "cell_type": "code",
   "execution_count": 31,
   "id": "0df80476-3e00-45bc-908f-bd7df0b51b03",
   "metadata": {},
   "outputs": [],
   "source": [
    "class LogisticRegression(LL):\n",
    "    def __init__(self, alpha, iterations):\n",
    "        super().__init__()\n",
    "        self.alpha = alpha\n",
    "        self.iterations = iterations\n",
    "\n",
    "    # def calculate_sigmoid(self, features, target, th0, thj):\n",
    "    #     m = features.shape[0]\n",
    "        \n",
    "    #     y_predict = th0 + np.dot(features, thj) #get numpy array containing predicted y of each row\n",
    "    #     y_predict = y_predict.astype(np.float64)\n",
    "    #     e = 1 / (1 + np.exp(-y_predict))\n",
    "\n",
    "    #this method computes gradient using vectorization and utilizes the broadcasting power of numpy\n",
    "    def calculate_gradient(self, features, target, th0, thj):\n",
    "        m = features.shape[0]\n",
    "        \n",
    "        y_predict = th0 + np.dot(features, thj) #get numpy array containing predicted y of each row\n",
    "        y_predict = y_predict.astype(np.float64)\n",
    "        sigmoid = 1 / (1 + np.exp(-y_predict)) # (broadcasting is used to do matrix manipulation)\n",
    "        \n",
    "        difference  = sigmoid - target\n",
    "        gradient_th0 = np.sum(difference) / m #difference is an array of differences so we need to sum all and divide my number of rows\n",
    "\n",
    "        #vectorization used to find dot product and gets matrix with the same shape of weight\n",
    "        #broadcasting is utilized on difference and m\n",
    "        gradient_thj = np.dot(difference, features) / m \n",
    "\n",
    "        return gradient_th0, gradient_thj\n",
    "\n",
    "    # utilizes gradient descent formula  to get optimal weights and bias\n",
    "    def gradient_descent(self, features, target, th0, thj):\n",
    "\n",
    "        j_history = []\n",
    "        \n",
    "        for i in range(self.iterations):\n",
    "            gradients = self.calculate_gradient(features, target, th0, thj)\n",
    "            \n",
    "            th0 = th0 - (self.alpha * gradients[0])\n",
    "            thj = thj - (self.alpha * gradients[1])\n",
    "\n",
    "            # check cost over iteration\n",
    "            if i%100 == 0 or i == self.iterations - 1:\n",
    "                current_cost = self.calculate_cost(features, target, th0, thj)\n",
    "                j_history.append([i, current_cost])\n",
    "                # print(f\"Iteration: {i}\\t Cost: {current_cost:.3f}\\t Bias: {th0:.3f}\\t Weight: {np.round(thj, 3)}\")\n",
    "                print(f\"Iteration: {i}\\t Cost: {current_cost}\\t Bias: {th0}\\t Weight: {thj}\")\n",
    "        \n",
    "        return th0, thj, j_history"
   ]
  },
  {
   "cell_type": "code",
   "execution_count": 32,
   "id": "2b05d524-4f24-4cfc-bcef-3d0aabfa7ba9",
   "metadata": {},
   "outputs": [
    {
     "name": "stdout",
     "output_type": "stream",
     "text": [
      "Iteration: 0\t Cost: 0.7044988534068732\t Bias: -2.8620689655172416e-06\t Weight: [-0.00252777]\n",
      "Iteration: 100\t Cost: 0.5673215154613342\t Bias: -5.4756500024609583e-05\t Weight: [-0.00107016]\n",
      "Iteration: 200\t Cost: 0.567318660648703\t Bias: -0.00010818692455808708\t Weight: [-0.00107011]\n",
      "Iteration: 300\t Cost: 0.5673158059642065\t Bias: -0.00016161614999827306\t Weight: [-0.00107006]\n",
      "Iteration: 400\t Cost: 0.5673129514078395\t Bias: -0.00021504417636762844\t Weight: [-0.00107001]\n",
      "Iteration: 500\t Cost: 0.5673100969795969\t Bias: -0.000268471003688624\t Weight: [-0.00106996]\n",
      "Iteration: 600\t Cost: 0.5673072426794731\t Bias: -0.0003218966319837305\t Weight: [-0.0010699]\n",
      "Iteration: 700\t Cost: 0.5673043885074631\t Bias: -0.00037532106127541933\t Weight: [-0.00106985]\n",
      "Iteration: 800\t Cost: 0.5673015344635617\t Bias: -0.0004287442915861619\t Weight: [-0.0010698]\n",
      "Iteration: 900\t Cost: 0.5672986805477633\t Bias: -0.00048216632293842905\t Weight: [-0.00106975]\n",
      "Iteration: 999\t Cost: 0.5672958552973058\t Bias: -0.0005350529529651895\t Weight: [-0.0010697]\n",
      "\n",
      "\n",
      "final bias = -0.0005350529529651895 \t final weights = [-0.0010697]\n"
     ]
    }
   ],
   "source": [
    "#initialize weight, biases and hyperparameters\n",
    "bias = 0\n",
    "weights = np.zeros(features.shape[1])\n",
    "learning_rate = 0.00001\n",
    "iterations = 1000\n",
    "\n",
    "#create object for linear regression class\n",
    "fit = LogisticRegression(learning_rate, iterations)\n",
    "# fit.calculate_gradient(np.array([[1],[2],[3],[4],[5],[6],[7],]), np.array([0,0,0,1,1,1,1]), bias, weights)\n",
    "\n",
    "\n",
    "# compute final weights and biases using gradient descent\n",
    "prdtd_bias, prdtd_weights, costs = fit.gradient_descent(features, target, bias, weights)\n",
    "print(f\"\\n\\nfinal bias = {prdtd_bias} \\t final weights = {prdtd_weights}\")\n",
    "\n",
    "# fit.calculate_gradient(features, target, -5.000000145436743e-05, [-0.04881])\n"
   ]
  },
  {
   "cell_type": "code",
   "execution_count": 33,
   "id": "642f3eab-76f9-4057-94cd-d01decffc790",
   "metadata": {},
   "outputs": [
    {
     "data": {
      "image/png": "[encoded data removed]",
      "text/plain": [
       "<Figure size 640x480 with 1 Axes>"
      ]
     },
     "metadata": {},
     "output_type": "display_data"
    }
   ],
   "source": [
    "iterations = [iteration[0] for iteration in costs]\n",
    "J = [j[1] for j in costs]\n",
    "\n",
    "\n",
    "plt.plot(iterations, J, color='red', marker='o', linestyle='-', label='Cost Function')\n",
    "plt.xlabel('Iterations')\n",
    "plt.ylabel('Cost')\n",
    "plt.legend()\n",
    "plt.show()"
   ]
  },
  {
   "cell_type": "code",
   "execution_count": 44,
   "id": "c7418040-fc98-4f50-90fd-06e8d62e85fc",
   "metadata": {},
   "outputs": [
    {
     "data": {
      "image/png": "[encoded data removed]",
      "text/plain": [
       "<Figure size 600x300 with 1 Axes>"
      ]
     },
     "metadata": {},
     "output_type": "display_data"
    }
   ],
   "source": [
    "def sigmoid(feature, bias, weight):\n",
    "    z = bias + (feature * weight)\n",
    "    sig = 1 / (1 + np.exp(-z))\n",
    "\n",
    "    return sig\n",
    "    \n",
    "\n",
    "# X = [x[0] for x in features]\n",
    "X = np.linspace(min(features), max(features), 100)\n",
    "\n",
    "Y = [sigmoid(x, prdtd_bias, prdtd_weights[0]) for x in X]\n",
    "\n",
    "plt.figure(figsize=(6,3))\n",
    "plt.scatter(features[target==0], target[target==0], color='red', label=\"N (No recurrence) / 0\")\n",
    "plt.scatter(features[target==1], target[target==1], color='blue', label=\"R (Recurrence) / 1\")\n",
    "\n",
    "plt.plot(X, Y, color='black', linestyle='-', label='sigmoid')\n",
    "\n",
    "plt.xlabel('mean_area')\n",
    "plt.ylabel('outcome')\n",
    "plt.legend()\n",
    "plt.show()"
   ]
  },
  {
   "cell_type": "code",
   "execution_count": 35,
   "id": "fc140afd-29f8-4303-ad3c-8eb848aef215",
   "metadata": {},
   "outputs": [
    {
     "data": {
      "text/plain": [
       "<matplotlib.collections.PathCollection at 0x2d35eed79d0>"
      ]
     },
     "execution_count": 35,
     "metadata": {},
     "output_type": "execute_result"
    },
    {
     "data": {
      "image/png": "[encoded data removed]",
      "text/plain": [
       "<Figure size 600x300 with 1 Axes>"
      ]
     },
     "metadata": {},
     "output_type": "display_data"
    }
   ],
   "source": [
    "x_train = np.array([[0.], [1], [2], [3], [4], [5]])\n",
    "y_train = np.array([0,  0, 0, 1, 1, 1])\n",
    "\n",
    "plt.figure(figsize=(6,3))\n",
    "plt.scatter(x_train[y_train==0], y_train[y_train==0], color='red', label=\"N (No recurrence) / 0\")\n",
    "plt.scatter(x_train[y_train==1], y_train[y_train==1], color='blue', label=\"R (Recurrence) / 1\")"
   ]
  },
  {
   "cell_type": "code",
   "execution_count": 40,
   "id": "c38886f9-e7be-46da-9f7e-56fa4b721c44",
   "metadata": {},
   "outputs": [
    {
     "name": "stdout",
     "output_type": "stream",
     "text": [
      "Iteration: 0\t Cost: 0.6433158133057237\t Bias: 0.0\t Weight: [0.075]\n",
      "Iteration: 100\t Cost: 0.33392725901545595\t Bias: -1.3839520817044988\t Weight: [0.80212573]\n",
      "Iteration: 200\t Cost: 0.2483926131855363\t Bias: -2.2525698051840277\t Weight: [1.10368022]\n",
      "Iteration: 300\t Cost: 0.20525887271025958\t Bias: -2.869185486240842\t Weight: [1.32493793]\n",
      "Iteration: 400\t Cost: 0.1786525885159525\t Bias: -3.3529776376187446\t Weight: [1.50197923]\n",
      "Iteration: 500\t Cost: 0.16021693414910443\t Bias: -3.755276935779395\t Weight: [1.65117817]\n",
      "Iteration: 600\t Cost: 0.1464644503783824\t Bias: -4.102426032413787\t Weight: [1.78119245]\n",
      "Iteration: 700\t Cost: 0.1356752674720651\t Bias: -4.409669170676462\t Weight: [1.89713478]\n",
      "Iteration: 800\t Cost: 0.1268977466822574\t Bias: -4.686609490003609\t Weight: [2.00227498]\n",
      "Iteration: 900\t Cost: 0.11955934144316645\t Bias: -4.939687754583603\t Weight: [2.09883242]\n",
      "Iteration: 1000\t Cost: 0.1132929921599034\t Bias: -5.173436338353163\t Weight: [2.18838423]\n",
      "Iteration: 1100\t Cost: 0.10785136151124247\t Bias: -5.39116808803684\t Weight: [2.27209277]\n",
      "Iteration: 1200\t Cost: 0.10306097158341138\t Bias: -5.595380068867395\t Weight: [2.35084049]\n",
      "Iteration: 1300\t Cost: 0.09879607542784359\t Bias: -5.788002884830449\t Weight: [2.42531391]\n",
      "Iteration: 1400\t Cost: 0.09496298048188641\t Bias: -5.970561395120326\t Weight: [2.49605835]\n",
      "Iteration: 1500\t Cost: 0.09149022838321613\t Bias: -6.144282106652216\t Weight: [2.56351465]\n",
      "Iteration: 1600\t Cost: 0.08832221477817422\t Bias: -6.310167158987246\t Weight: [2.62804463]\n",
      "Iteration: 1700\t Cost: 0.08541491242714627\t Bias: -6.469046649224564\t Weight: [2.6899493]\n",
      "Iteration: 1800\t Cost: 0.08273292547153718\t Bias: -6.621616491573271\t Weight: [2.74948197]\n",
      "Iteration: 1900\t Cost: 0.08024741185454237\t Bias: -6.768466363882582\t Weight: [2.80685805]\n",
      "Iteration: 2000\t Cost: 0.07793458704949963\t Bias: -6.910100704761839\t Weight: [2.86226245]\n",
      "Iteration: 2100\t Cost: 0.07577462620934262\t Bias: -7.046954739824193\t Weight: [2.91585519]\n",
      "Iteration: 2200\t Cost: 0.0737508451237662\t Bias: -7.179406887799652\t Weight: [2.96777582]\n",
      "Iteration: 2300\t Cost: 0.0718490799520416\t Bias: -7.307788487309472\t Weight: [3.01814687]\n",
      "Iteration: 2400\t Cost: 0.0700572110759198\t Bias: -7.4323915114706445\t Weight: [3.06707659]\n",
      "Iteration: 2500\t Cost: 0.06836479305052932\t Bias: -7.553474751232295\t Weight: [3.11466118]\n",
      "Iteration: 2600\t Cost: 0.06676276375450758\t Bias: -7.671268819258367\t Weight: [3.16098655]\n",
      "Iteration: 2700\t Cost: 0.06524321341596036\t Bias: -7.7859802352416425\t Weight: [3.2061298]\n",
      "Iteration: 2800\t Cost: 0.06379919943655418\t Bias: -7.897794788521908\t Weight: [3.25016046]\n",
      "Iteration: 2900\t Cost: 0.06242459662446924\t Bias: -8.00688032675928\t Weight: [3.29314146]\n",
      "Iteration: 3000\t Cost: 0.0611139750771269\t Bias: -8.11338908482567\t Weight: [3.33512998]\n",
      "Iteration: 3100\t Cost: 0.05986249985469909\t Bias: -8.217459642391834\t Weight: [3.37617818]\n",
      "Iteration: 3200\t Cost: 0.05866584797469504\t Bias: -8.319218579406083\t Weight: [3.41633378]\n",
      "Iteration: 3300\t Cost: 0.05752013928515332\t Bias: -8.418781884040397\t Weight: [3.45564058]\n",
      "Iteration: 3400\t Cost: 0.05642187854145662\t Bias: -8.516256156489497\t Weight: [3.49413891]\n",
      "Iteration: 3500\t Cost: 0.05536790659081328\t Bias: -8.611739643368477\t Weight: [3.53186597]\n",
      "Iteration: 3600\t Cost: 0.054355359009302426\t Bias: -8.705323130728532\t Weight: [3.56885621]\n",
      "Iteration: 3700\t Cost: 0.053381630874901276\t Bias: -8.797090718433822\t Weight: [3.60514159]\n",
      "Iteration: 3800\t Cost: 0.05244434662196028\t Bias: -8.88712049447356\t Weight: [3.64075181]\n",
      "Iteration: 3900\t Cost: 0.051541334126979206\t Bias: -8.975485124466152\t Weight: [3.67571455]\n",
      "Iteration: 4000\t Cost: 0.050670602336097506\t Bias: -9.062252368956575\t Weight: [3.71005566]\n",
      "Iteration: 4100\t Cost: 0.049830321871687275\t Bias: -9.147485538968475\t Weight: [3.74379931]\n",
      "Iteration: 4200\t Cost: 0.04901880815651222\t Bias: -9.231243898539038\t Weight: [3.77696816]\n",
      "Iteration: 4300\t Cost: 0.04823450667484392\t Bias: -9.313583021552148\t Weight: [3.80958348]\n",
      "Iteration: 4400\t Cost: 0.047475980055110445\t Bias: -9.394555109029199\t Weight: [3.84166528]\n",
      "Iteration: 4500\t Cost: 0.04674189671143528\t Bias: -9.474209272084732\t Weight: [3.87323239]\n",
      "Iteration: 4600\t Cost: 0.04603102082439468\t Bias: -9.552591784967248\t Weight: [3.90430256]\n",
      "Iteration: 4700\t Cost: 0.04534220347646451\t Bias: -9.62974631195212\t Weight: [3.9348926]\n",
      "Iteration: 4800\t Cost: 0.04467437478652525\t Bias: -9.70571411130802\t Weight: [3.96501836]\n",
      "Iteration: 4900\t Cost: 0.044026536911643134\t Bias: -9.780534219101748\t Weight: [3.99469488]\n",
      "Iteration: 5000\t Cost: 0.04339775780412448\t Bias: -9.854243615222765\t Weight: [4.0239364]\n",
      "Iteration: 5100\t Cost: 0.04278716562831339\t Bias: -9.926877373684333\t Weight: [4.05275645]\n",
      "Iteration: 5200\t Cost: 0.04219394375536776\t Bias: -9.99846879898383\t Weight: [4.08116789]\n",
      "Iteration: 5300\t Cost: 0.041617326265802786\t Bias: -10.069049550071922\t Weight: [4.10918294]\n",
      "Iteration: 5400\t Cost: 0.04105659389932148\t Bias: -10.138649753280864\t Weight: [4.13681325]\n",
      "Iteration: 5500\t Cost: 0.04051107039967332\t Bias: -10.207298105392661\t Weight: [4.16406993]\n",
      "Iteration: 5600\t Cost: 0.03998011920925805\t Bias: -10.27502196788129\t Weight: [4.19096355]\n",
      "Iteration: 5700\t Cost: 0.039463140474119425\t Bias: -10.341847453238136\t Weight: [4.21750425]\n",
      "Iteration: 5800\t Cost: 0.038959568325041764\t Bias: -10.407799504180923\t Weight: [4.24370168]\n",
      "Iteration: 5900\t Cost: 0.03846886840479073\t Bias: -10.47290196645295\t Weight: [4.2695651]\n",
      "Iteration: 6000\t Cost: 0.03799053561526236\t Bias: -10.53717765583781\t Weight: [4.29510336]\n",
      "Iteration: 6100\t Cost: 0.03752409206150509\t Bias: -10.600648419944253\t Weight: [4.32032494]\n",
      "Iteration: 6200\t Cost: 0.037069085172344356\t Bias: -10.663335195253765\t Weight: [4.34523799]\n",
      "Iteration: 6300\t Cost: 0.03662508597973098\t Bias: -10.725258059869889\t Weight: [4.36985031]\n",
      "Iteration: 6400\t Cost: 0.03619168754100924\t Bias: -10.786436282360672\t Weight: [4.39416938]\n",
      "Iteration: 6500\t Cost: 0.035768503490105165\t Bias: -10.84688836704444\t Weight: [4.41820243]\n",
      "Iteration: 6600\t Cost: 0.035355166705210675\t Bias: -10.906632096032258\t Weight: [4.44195636]\n",
      "Iteration: 6700\t Cost: 0.03495132808191077\t Bias: -10.965684568308621\t Weight: [4.46543784]\n",
      "Iteration: 6800\t Cost: 0.03455665540190767\t Bias: -11.024062236103095\t Weight: [4.48865329]\n",
      "Iteration: 6900\t Cost: 0.03417083228854946\t Bias: -11.08178093878068\t Weight: [4.51160888]\n",
      "Iteration: 7000\t Cost: 0.03379355724130196\t Bias: -11.138855934456323\t Weight: [4.53431056]\n",
      "Iteration: 7100\t Cost: 0.033424542742118826\t Bias: -11.195301929518944\t Weight: [4.55676408]\n",
      "Iteration: 7200\t Cost: 0.033063514427388724\t Bias: -11.251133106233025\t Weight: [4.57897497]\n",
      "Iteration: 7300\t Cost: 0.03271021031977751\t Bias: -11.306363148569798\t Weight: [4.60094858]\n",
      "Iteration: 7400\t Cost: 0.032364380114848705\t Bias: -11.361005266405853\t Weight: [4.62269006]\n",
      "Iteration: 7500\t Cost: 0.03202578451784911\t Bias: -11.41507221821507\t Weight: [4.64420442]\n",
      "Iteration: 7600\t Cost: 0.03169419462649264\t Bias: -11.468576332367501\t Weight: [4.66549646]\n",
      "Iteration: 7700\t Cost: 0.03136939135597607\t Bias: -11.521529527139569\t Weight: [4.68657086]\n",
      "Iteration: 7800\t Cost: 0.03105116490281084\t Bias: -11.57394332953048\t Weight: [4.70743212]\n",
      "Iteration: 7900\t Cost: 0.030739314244378136\t Bias: -11.625828892971395\t Weight: [4.72808462]\n",
      "Iteration: 8000\t Cost: 0.030433646671395552\t Bias: -11.677197014006914\t Weight: [4.74853257]\n",
      "Iteration: 8100\t Cost: 0.030133977350737216\t Bias: -11.728058148021406\t Weight: [4.76878008]\n",
      "Iteration: 8200\t Cost: 0.02984012891628267\t Bias: -11.778422424076869\t Weight: [4.78883112]\n",
      "Iteration: 8300\t Cost: 0.02955193108566931\t Bias: -11.828299658923521\t Weight: [4.80868953]\n",
      "Iteration: 8400\t Cost: 0.029269220301014393\t Bias: -11.877699370239313\t Weight: [4.82835905]\n",
      "Iteration: 8500\t Cost: 0.028991839391833005\t Bias: -11.926630789150165\t Weight: [4.8478433]\n",
      "Iteration: 8600\t Cost: 0.028719637258536414\t Bias: -11.97510287207852\t Weight: [4.86714579]\n",
      "Iteration: 8700\t Cost: 0.028452468575023718\t Bias: -12.023124311964208\t Weight: [4.88626994]\n",
      "Iteration: 8800\t Cost: 0.02819019350900985\t Bias: -12.070703548898157\t Weight: [4.90521906]\n",
      "Iteration: 8900\t Cost: 0.02793267745883836\t Bias: -12.117848780206506\t Weight: [4.92399636]\n",
      "Iteration: 9000\t Cost: 0.027679790805634798\t Bias: -12.164567970019698\t Weight: [4.94260498]\n",
      "Iteration: 9100\t Cost: 0.02743140867974333\t Bias: -12.210868858358653\t Weight: [4.96104796]\n",
      "Iteration: 9200\t Cost: 0.027187410740475582\t Bias: -12.256758969767864\t Weight: [4.97932826]\n",
      "Iteration: 9300\t Cost: 0.02694768096827706\t Bias: -12.302245621522856\t Weight: [4.99744875]\n",
      "Iteration: 9400\t Cost: 0.026712107468484285\t Bias: -12.347335931437746\t Weight: [5.01541223]\n",
      "Iteration: 9500\t Cost: 0.026480582285910343\t Bias: -12.392036825296586\t Weight: [5.03322142]\n",
      "Iteration: 9600\t Cost: 0.026253001229554283\t Bias: -12.436355043930632\t Weight: [5.05087899]\n",
      "Iteration: 9700\t Cost: 0.02602926370678173\t Bias: -12.480297149962269\t Weight: [5.0683875]\n",
      "Iteration: 9800\t Cost: 0.025809272566374435\t Bias: -12.523869534234464\t Weight: [5.08574948]\n",
      "Iteration: 9900\t Cost: 0.025592933949887268\t Bias: -12.567078421944055\t Weight: [5.10296737]\n",
      "Iteration: 9999\t Cost: 0.025382267578155142\t Bias: -12.609503113679205\t Weight: [5.1198735]\n",
      "\n",
      "\n",
      "final bias = -12.609503113679205 \t final weights = [5.1198735]\n"
     ]
    }
   ],
   "source": [
    "bias_t = 0\n",
    "weights_t = np.zeros(features.shape[1])\n",
    "learning_rate_t = 0.1\n",
    "iterations_t = 10000\n",
    "\n",
    "fit_t = LogisticRegression(learning_rate_t, iterations_t)\n",
    "\n",
    "x_train = np.array([[0.], [1], [2], [3], [4], [5]])\n",
    "y_train = np.array([0,  0, 0, 1, 1, 1])\n",
    "\n",
    "prdtd_bias_t, prdtd_weights_t, costs_t = fit_t.gradient_descent(x_train, y_train, bias_t, weights_t)\n",
    "print(f\"\\n\\nfinal bias = {prdtd_bias_t} \\t final weights = {prdtd_weights_t}\")"
   ]
  },
  {
   "cell_type": "code",
   "execution_count": 43,
   "id": "d4d5ff13-df13-4b1f-96e5-b155767e84e7",
   "metadata": {},
   "outputs": [
    {
     "data": {
      "image/png": "[encoded data removed]",
      "text/plain": [
       "<Figure size 600x300 with 1 Axes>"
      ]
     },
     "metadata": {},
     "output_type": "display_data"
    }
   ],
   "source": [
    "def sigmoid_t(feature, bias, weight):\n",
    "    z = bias + (feature * weight)\n",
    "    sig = 1 / (1 + np.exp(-z))\n",
    "\n",
    "    return sig\n",
    "    \n",
    "\n",
    "# X_t = [x[0] for x in x_train]\n",
    "X_t = np.linspace(min(x_train), max(x_train), 100)\n",
    "Y_t = [sigmoid_t(x, prdtd_bias_t, prdtd_weights_t[0]) for x in X_t]\n",
    "\n",
    "plt.figure(figsize=(6,3))\n",
    "plt.scatter(x_train[y_train==0], y_train[y_train==0], color='red', label=\"N (No recurrence) / 0\")\n",
    "plt.scatter(x_train[y_train==1], y_train[y_train==1], color='blue', label=\"R (Recurrence) / 1\")\n",
    "\n",
    "plt.plot(X_t, Y_t, color='pink', linestyle='-', label='sigmoid')\n",
    "\n",
    "plt.xlabel('mean_area')\n",
    "plt.ylabel('outcome')\n",
    "plt.legend()\n",
    "plt.show()"
   ]
  },
  {
   "cell_type": "code",
   "execution_count": 26,
   "id": "52995e29-72b1-43b6-af11-73a47da58891",
   "metadata": {},
   "outputs": [
    {
     "data": {
      "text/plain": [
       "array([[0.08098424, 0.54608735],\n",
       "       [0.75658331, 0.65879571],\n",
       "       [0.3338976 , 0.30429657]])"
      ]
     },
     "execution_count": 26,
     "metadata": {},
     "output_type": "execute_result"
    }
   ],
   "source": [
    "rand = np.random.rand(3,2)\n",
    "rand"
   ]
  },
  {
   "cell_type": "code",
   "execution_count": 27,
   "id": "09e3d854-e883-400b-b7e4-3d135e6670db",
   "metadata": {},
   "outputs": [
    {
     "data": {
      "text/plain": [
       "array([[0.92220822, 0.57921164],\n",
       "       [0.46926703, 0.51747415],\n",
       "       [0.71612711, 0.73764207]])"
      ]
     },
     "execution_count": 27,
     "metadata": {},
     "output_type": "execute_result"
    }
   ],
   "source": [
    "np.exp(-rand)"
   ]
  },
  {
   "cell_type": "code",
   "execution_count": 28,
   "id": "82e5ad00-9391-479f-ac57-e8eb70ae63bd",
   "metadata": {},
   "outputs": [
    {
     "name": "stdout",
     "output_type": "stream",
     "text": [
      "[0. 0. 0. 0. 0. 0. 0. 0. 0. 0. 0. 0. 0. 0. 0. 0. 0. 0. 0. 0. 0. 0. 0. 0.\n",
      " 0. 0. 0. 0. 0. 0. 0. 0. 0. 0. 0. 0. 0. 0. 0. 0. 0. 0. 0. 0. 0. 0. 0. 0.\n",
      " 0. 0. 0. 0. 0. 0. 0. 0. 0. 0. 0. 0. 0. 0. 0. 0. 0. 0. 0. 0. 0. 0. 0. 0.\n",
      " 0. 0. 0. 0. 0. 0. 0. 0. 0. 0. 0. 0. 0. 0. 0. 0. 0. 0. 0. 0. 0. 0. 0. 0.\n",
      " 0. 0. 0. 0. 0. 0. 0. 0. 0. 0. 0. 0. 0. 0. 0. 0. 0. 0. 0. 0. 0. 0. 0. 0.\n",
      " 0. 0. 0. 0. 0. 0. 0. 0. 0. 0. 0. 0. 0. 0. 0. 0. 0. 0. 0. 0. 0. 0. 0. 0.\n",
      " 0.]\n",
      "<class 'numpy.ndarray'>\n",
      "<class 'numpy.float64'>\n"
     ]
    },
    {
     "data": {
      "text/plain": [
       "array([1., 1., 1., 1., 1., 1., 1., 1., 1., 1., 1., 1., 1., 1., 1., 1., 1.,\n",
       "       1., 1., 1., 1., 1., 1., 1., 1., 1., 1., 1., 1., 1., 1., 1., 1., 1.,\n",
       "       1., 1., 1., 1., 1., 1., 1., 1., 1., 1., 1., 1., 1., 1., 1., 1., 1.,\n",
       "       1., 1., 1., 1., 1., 1., 1., 1., 1., 1., 1., 1., 1., 1., 1., 1., 1.,\n",
       "       1., 1., 1., 1., 1., 1., 1., 1., 1., 1., 1., 1., 1., 1., 1., 1., 1.,\n",
       "       1., 1., 1., 1., 1., 1., 1., 1., 1., 1., 1., 1., 1., 1., 1., 1., 1.,\n",
       "       1., 1., 1., 1., 1., 1., 1., 1., 1., 1., 1., 1., 1., 1., 1., 1., 1.,\n",
       "       1., 1., 1., 1., 1., 1., 1., 1., 1., 1., 1., 1., 1., 1., 1., 1., 1.,\n",
       "       1., 1., 1., 1., 1., 1., 1., 1., 1.])"
      ]
     },
     "execution_count": 28,
     "metadata": {},
     "output_type": "execute_result"
    }
   ],
   "source": [
    "a = [0.0, 0.0, 0.0, 0.0, 0.0, 0.0, 0.0, 0.0, 0.0, 0.0, 0.0, 0.0, 0.0, 0.0, 0.0, 0.0, 0.0, 0.0,\n",
    " 0.0, 0.0, 0.0, 0.0, 0.0, 0.0, 0.0, 0.0, 0.0, 0.0, 0.0, 0.0, 0.0, 0.0, 0.0, 0.0, 0.0, 0.0,\n",
    " 0.0, 0.0, 0.0, 0.0, 0.0, 0.0, 0.0, 0.0, 0.0, 0.0, 0.0, 0.0, 0.0, 0.0, 0.0, 0.0, 0.0, 0.0,\n",
    " 0.0, 0.0, 0.0, 0.0, 0.0, 0.0, 0.0, 0.0, 0.0, 0.0, 0.0, 0.0, 0.0, 0.0, 0.0, 0.0, 0.0, 0.0,\n",
    " 0.0, 0.0, 0.0, 0.0, 0.0, 0.0, 0.0, 0.0, 0.0, 0.0, 0.0, 0.0, 0.0, 0.0, 0.0, 0.0, 0.0, 0.0,\n",
    " 0.0, 0.0, 0.0, 0.0, 0.0, 0.0, 0.0, 0.0, 0.0, 0.0, 0.0, 0.0, 0.0, 0.0, 0.0, 0.0, 0.0, 0.0,\n",
    " 0.0, 0.0, 0.0, 0.0, 0.0, 0.0, 0.0, 0.0, 0.0, 0.0, 0.0, 0.0, 0.0, 0.0, 0.0, 0.0, 0.0, 0.0,\n",
    " 0.0, 0.0, 0.0, 0.0, 0.0, 0.0, 0.0, 0.0, 0.0, 0.0, 0.0, 0.0, 0.0, 0.0, 0.0, 0.0, 0.0, 0.0,\n",
    " 0.0]\n",
    "a = np.array(a)\n",
    "print(a)\n",
    "print(type(a))\n",
    "print(type(a[0]))\n",
    "np.exp(-a)"
   ]
  },
  {
   "cell_type": "code",
   "execution_count": null,
   "id": "7874b117-6e44-4479-bb4f-3e67bda1ede0",
   "metadata": {},
   "outputs": [],
   "source": []
  }
 ],
 "metadata": {
  "kernelspec": {
   "display_name": "Python 3 (ipykernel)",
   "language": "python",
   "name": "python3"
  },
  "language_info": {
   "codemirror_mode": {
    "name": "ipython",
    "version": 3
   },
   "file_extension": ".py",
   "mimetype": "text/x-python",
   "name": "python",
   "nbconvert_exporter": "python",
   "pygments_lexer": "ipython3",
   "version": "3.13.2"
  }
 },
 "nbformat": 4,
 "nbformat_minor": 5
}
