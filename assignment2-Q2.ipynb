{
 "cells": [
  {
   "cell_type": "markdown",
   "id": "baf74bbe-011f-4085-896a-0055acc6ba2c",
   "metadata": {},
   "source": [
    "# Assignment 2"
   ]
  },
  {
   "cell_type": "markdown",
   "id": "7b6f8ecd-699a-4491-b2ab-32101413ec9e",
   "metadata": {
    "jp-MarkdownHeadingCollapsed": true
   },
   "source": [
    "## Q1"
   ]
  },
  {
   "cell_type": "code",
   "execution_count": 1,
   "id": "3a77a776-4368-4e1a-ba08-ea8d79202a77",
   "metadata": {},
   "outputs": [],
   "source": [
    "import pandas as pd\n",
    "pd.set_option('future.no_silent_downcasting', True) #disables the automatic downcasting of data types ()"
   ]
  },
  {
   "cell_type": "code",
   "execution_count": 2,
   "id": "6e102357-3d8d-409c-950c-3e63bee7daf4",
   "metadata": {},
   "outputs": [],
   "source": [
    "df = pd.read_csv('./Cancer_dataset1.csv')"
   ]
  },
  {
   "cell_type": "code",
   "execution_count": 3,
   "id": "8689ac76-3f01-4289-9204-2814d1c83583",
   "metadata": {},
   "outputs": [],
   "source": [
    "def stats(data, cols):\n",
    "    filtered_data = data[columns]\n",
    "    for column in filtered_data.columns:\n",
    "        print(f\"################ {column} Stats ##################\")\n",
    "\n",
    "        col = df[column]\n",
    "        \n",
    "        print(f\"{column} count = {col.shape[0]}\")\n",
    "        print(f\"{column} mean = {col.mean()}\")\n",
    "        print(f\"{column} standard deviation = {col.std()}\")\n",
    "        print(f\"{column} minimum = {col.min()}\")\n",
    "        print(f\"{column} 25% percentile = {col.quantile(0.25)}\")\n",
    "        print(f\"{column} 50% percentile = {col.quantile(0.5)}\")\n",
    "        print(f\"{column} 75% percentile = {col.quantile(0.75)}\")\n",
    "        print(f\"{column} maximum = {col.max()}\")\n",
    "\n",
    "        print(\"\\n\")\n"
   ]
  },
  {
   "cell_type": "code",
   "execution_count": 4,
   "id": "abba2e8e-601f-436a-9e8d-4094a70b5c1c",
   "metadata": {},
   "outputs": [],
   "source": [
    "columns = ['mean_radius', 'mean_texture', 'mean_perimeter', 'mean_area', 'mean_smoothness', 'mean_compactness', 'mean_concavity','mean_concave_points']\n",
    "# stats(df, columns)"
   ]
  },
  {
   "cell_type": "code",
   "execution_count": 5,
   "id": "d1ba9e8a-12fd-441f-984f-f0fd307363a2",
   "metadata": {},
   "outputs": [
    {
     "name": "stdout",
     "output_type": "stream",
     "text": [
      "total rows = 198\n",
      "unique values = ['N' 'R']\n",
      "top value = N\n",
      "top value frequency = 151\n",
      "unique value frequency = outcome\n",
      "N    151\n",
      "R     47\n",
      "Name: count, dtype: int64\n"
     ]
    }
   ],
   "source": [
    "#Summarize the statistics of variable into count, unique value, top value, and frequency of top value. \n",
    "outcome = df['outcome']\n",
    "count = outcome.shape[0]\n",
    "print(f\"total rows = {count}\")\n",
    "\n",
    "unique_value = outcome.unique()\n",
    "print(f\"unique values = {unique_value}\")\n",
    "\n",
    "top_value = outcome.value_counts().index[0]\n",
    "print(f\"top value = {top_value}\")\n",
    "\n",
    "frequency_top = outcome.value_counts().max()\n",
    "print(f\"top value frequency = {frequency_top}\")  \n",
    "\n",
    "unique_val_counts = outcome.value_counts()\n",
    "print(f\"unique value frequency = {unique_val_counts}\")"
   ]
  },
  {
   "cell_type": "code",
   "execution_count": 6,
   "id": "45804106-0ba2-4eec-a964-ff2c1768dd22",
   "metadata": {},
   "outputs": [],
   "source": [
    "# Encoding categorical to numerical\n",
    "# R: Recurrence of the cancer.\n",
    "# N: No recurrence of the cancer.\n",
    "\n",
    "#label encoding: replacing category to integer value (since the category is of only two type, One-hot Encoding is not used)\n",
    "encoded_outcome = outcome.replace({'R': 1, 'N': 0})\n",
    "# encoded_outcome"
   ]
  },
  {
   "cell_type": "code",
   "execution_count": 7,
   "id": "5d09cab1-2b07-4990-af3e-91e914b43ae6",
   "metadata": {},
   "outputs": [
    {
     "name": "stdout",
     "output_type": "stream",
     "text": [
      "correlation between mean_perimeter and se_perimeter = 0.6099643781634989\n"
     ]
    }
   ],
   "source": [
    "# correlation between mean_perimeter and se_perimeter\n",
    "print(f\"correlation between mean_perimeter and se_perimeter = {df['mean_perimeter'].corr(df['se_perimeter'])}\")"
   ]
  },
  {
   "cell_type": "code",
   "execution_count": null,
   "id": "9aa4f342-aa6d-4b61-9d95-abb69bc1f41d",
   "metadata": {},
   "outputs": [],
   "source": []
  },
  {
   "cell_type": "code",
   "execution_count": null,
   "id": "f04be888-1ec0-4f01-a9b8-0bd4a4aa81ee",
   "metadata": {},
   "outputs": [],
   "source": []
  },
  {
   "cell_type": "code",
   "execution_count": 8,
   "id": "83f437c2-dad6-4820-8242-ab0eccc3f23b",
   "metadata": {},
   "outputs": [
    {
     "data": {
      "text/html": [
       "<div>\n",
       "<style scoped>\n",
       "    .dataframe tbody tr th:only-of-type {\n",
       "        vertical-align: middle;\n",
       "    }\n",
       "\n",
       "    .dataframe tbody tr th {\n",
       "        vertical-align: top;\n",
       "    }\n",
       "\n",
       "    .dataframe thead th {\n",
       "        text-align: right;\n",
       "    }\n",
       "</style>\n",
       "<table border=\"1\" class=\"dataframe\">\n",
       "  <thead>\n",
       "    <tr style=\"text-align: right;\">\n",
       "      <th></th>\n",
       "      <th>id</th>\n",
       "      <th>outcome</th>\n",
       "      <th>time</th>\n",
       "      <th>mean_radius</th>\n",
       "      <th>mean_texture</th>\n",
       "      <th>mean_perimeter</th>\n",
       "      <th>mean_area</th>\n",
       "      <th>mean_smoothness</th>\n",
       "      <th>mean_compactness</th>\n",
       "      <th>mean_concavity</th>\n",
       "      <th>...</th>\n",
       "      <th>worst_perimeter</th>\n",
       "      <th>worst_area</th>\n",
       "      <th>worst_smoothness</th>\n",
       "      <th>worst_compactness</th>\n",
       "      <th>worst_concavity</th>\n",
       "      <th>worst_concave_points</th>\n",
       "      <th>worst_symmetry</th>\n",
       "      <th>worst_fractal_dimension</th>\n",
       "      <th>tumor_size</th>\n",
       "      <th>lymph_node_status</th>\n",
       "    </tr>\n",
       "  </thead>\n",
       "  <tbody>\n",
       "    <tr>\n",
       "      <th>0</th>\n",
       "      <td>119513</td>\n",
       "      <td>N</td>\n",
       "      <td>31</td>\n",
       "      <td>18.02</td>\n",
       "      <td>27.60</td>\n",
       "      <td>117.50</td>\n",
       "      <td>1013.0</td>\n",
       "      <td>0.09489</td>\n",
       "      <td>0.1036</td>\n",
       "      <td>0.1086</td>\n",
       "      <td>...</td>\n",
       "      <td>139.70</td>\n",
       "      <td>1436.0</td>\n",
       "      <td>0.1195</td>\n",
       "      <td>0.1926</td>\n",
       "      <td>0.3140</td>\n",
       "      <td>0.1170</td>\n",
       "      <td>0.2677</td>\n",
       "      <td>0.08113</td>\n",
       "      <td>5.0</td>\n",
       "      <td>5.0</td>\n",
       "    </tr>\n",
       "    <tr>\n",
       "      <th>1</th>\n",
       "      <td>8423</td>\n",
       "      <td>N</td>\n",
       "      <td>61</td>\n",
       "      <td>17.99</td>\n",
       "      <td>10.38</td>\n",
       "      <td>122.80</td>\n",
       "      <td>1001.0</td>\n",
       "      <td>0.11840</td>\n",
       "      <td>0.2776</td>\n",
       "      <td>0.3001</td>\n",
       "      <td>...</td>\n",
       "      <td>184.60</td>\n",
       "      <td>2019.0</td>\n",
       "      <td>0.1622</td>\n",
       "      <td>0.6656</td>\n",
       "      <td>0.7119</td>\n",
       "      <td>0.2654</td>\n",
       "      <td>0.4601</td>\n",
       "      <td>0.11890</td>\n",
       "      <td>3.0</td>\n",
       "      <td>2.0</td>\n",
       "    </tr>\n",
       "    <tr>\n",
       "      <th>2</th>\n",
       "      <td>842517</td>\n",
       "      <td>N</td>\n",
       "      <td>116</td>\n",
       "      <td>21.37</td>\n",
       "      <td>17.44</td>\n",
       "      <td>137.50</td>\n",
       "      <td>1373.0</td>\n",
       "      <td>0.08836</td>\n",
       "      <td>0.1189</td>\n",
       "      <td>0.1255</td>\n",
       "      <td>...</td>\n",
       "      <td>159.10</td>\n",
       "      <td>1949.0</td>\n",
       "      <td>0.1188</td>\n",
       "      <td>0.3449</td>\n",
       "      <td>0.3414</td>\n",
       "      <td>0.2032</td>\n",
       "      <td>0.4334</td>\n",
       "      <td>0.09067</td>\n",
       "      <td>2.5</td>\n",
       "      <td>0.0</td>\n",
       "    </tr>\n",
       "    <tr>\n",
       "      <th>3</th>\n",
       "      <td>843483</td>\n",
       "      <td>N</td>\n",
       "      <td>123</td>\n",
       "      <td>11.42</td>\n",
       "      <td>20.38</td>\n",
       "      <td>77.58</td>\n",
       "      <td>386.1</td>\n",
       "      <td>0.14250</td>\n",
       "      <td>0.2839</td>\n",
       "      <td>0.2414</td>\n",
       "      <td>...</td>\n",
       "      <td>98.87</td>\n",
       "      <td>567.7</td>\n",
       "      <td>0.2098</td>\n",
       "      <td>0.8663</td>\n",
       "      <td>0.6869</td>\n",
       "      <td>0.2575</td>\n",
       "      <td>0.6638</td>\n",
       "      <td>0.17300</td>\n",
       "      <td>2.0</td>\n",
       "      <td>0.0</td>\n",
       "    </tr>\n",
       "    <tr>\n",
       "      <th>4</th>\n",
       "      <td>843584</td>\n",
       "      <td>R</td>\n",
       "      <td>27</td>\n",
       "      <td>20.29</td>\n",
       "      <td>14.34</td>\n",
       "      <td>135.10</td>\n",
       "      <td>1297.0</td>\n",
       "      <td>0.10030</td>\n",
       "      <td>0.1328</td>\n",
       "      <td>0.1980</td>\n",
       "      <td>...</td>\n",
       "      <td>152.20</td>\n",
       "      <td>1575.0</td>\n",
       "      <td>0.1374</td>\n",
       "      <td>0.2050</td>\n",
       "      <td>0.4000</td>\n",
       "      <td>0.1625</td>\n",
       "      <td>0.2364</td>\n",
       "      <td>0.07678</td>\n",
       "      <td>3.5</td>\n",
       "      <td>0.0</td>\n",
       "    </tr>\n",
       "  </tbody>\n",
       "</table>\n",
       "<p>5 rows × 35 columns</p>\n",
       "</div>"
      ],
      "text/plain": [
       "       id outcome  time  mean_radius  mean_texture  mean_perimeter  mean_area  \\\n",
       "0  119513       N    31        18.02         27.60          117.50     1013.0   \n",
       "1    8423       N    61        17.99         10.38          122.80     1001.0   \n",
       "2  842517       N   116        21.37         17.44          137.50     1373.0   \n",
       "3  843483       N   123        11.42         20.38           77.58      386.1   \n",
       "4  843584       R    27        20.29         14.34          135.10     1297.0   \n",
       "\n",
       "   mean_smoothness  mean_compactness  mean_concavity  ...  worst_perimeter  \\\n",
       "0          0.09489            0.1036          0.1086  ...           139.70   \n",
       "1          0.11840            0.2776          0.3001  ...           184.60   \n",
       "2          0.08836            0.1189          0.1255  ...           159.10   \n",
       "3          0.14250            0.2839          0.2414  ...            98.87   \n",
       "4          0.10030            0.1328          0.1980  ...           152.20   \n",
       "\n",
       "   worst_area  worst_smoothness  worst_compactness  worst_concavity  \\\n",
       "0      1436.0            0.1195             0.1926           0.3140   \n",
       "1      2019.0            0.1622             0.6656           0.7119   \n",
       "2      1949.0            0.1188             0.3449           0.3414   \n",
       "3       567.7            0.2098             0.8663           0.6869   \n",
       "4      1575.0            0.1374             0.2050           0.4000   \n",
       "\n",
       "   worst_concave_points  worst_symmetry  worst_fractal_dimension  tumor_size  \\\n",
       "0                0.1170          0.2677                  0.08113         5.0   \n",
       "1                0.2654          0.4601                  0.11890         3.0   \n",
       "2                0.2032          0.4334                  0.09067         2.5   \n",
       "3                0.2575          0.6638                  0.17300         2.0   \n",
       "4                0.1625          0.2364                  0.07678         3.5   \n",
       "\n",
       "   lymph_node_status  \n",
       "0                5.0  \n",
       "1                2.0  \n",
       "2                0.0  \n",
       "3                0.0  \n",
       "4                0.0  \n",
       "\n",
       "[5 rows x 35 columns]"
      ]
     },
     "execution_count": 8,
     "metadata": {},
     "output_type": "execute_result"
    }
   ],
   "source": [
    "df.head()"
   ]
  },
  {
   "cell_type": "code",
   "execution_count": 9,
   "id": "8e078ef6-5dad-4689-b014-a17e78450ddd",
   "metadata": {},
   "outputs": [],
   "source": [
    "# df.info()"
   ]
  },
  {
   "cell_type": "code",
   "execution_count": 10,
   "id": "d6d66afb-111d-47ea-8fca-b74f103a4c25",
   "metadata": {},
   "outputs": [],
   "source": [
    "# df.isnull().sum()"
   ]
  },
  {
   "cell_type": "code",
   "execution_count": 11,
   "id": "eebdb530-a03b-45af-892b-47788576a050",
   "metadata": {},
   "outputs": [],
   "source": [
    "import seaborn as sns\n",
    "import matplotlib.pyplot as plt"
   ]
  },
  {
   "cell_type": "code",
   "execution_count": 12,
   "id": "b0710739-1cd7-4d8e-900d-5b3fa0dcbeac",
   "metadata": {},
   "outputs": [],
   "source": [
    "# corr_matrix = df.drop(columns=['outcome', 'id']).corr()\n",
    "\n",
    "# plt.figure(figsize=(20,20))\n",
    "# sns.heatmap(corr_matrix, annot=True, cmap=\"coolwarm\", fmt=\".2f\")\n",
    "# plt.title(\"Correlation Matrix Heatmap\")\n",
    "# plt.show()"
   ]
  },
  {
   "cell_type": "markdown",
   "id": "bf9688f5-6681-4672-a5c8-0aa0acfb4b36",
   "metadata": {},
   "source": [
    "## Q2"
   ]
  },
  {
   "cell_type": "code",
   "execution_count": 13,
   "id": "565a134d-3138-4b6c-8b41-2efe5e47b702",
   "metadata": {},
   "outputs": [],
   "source": [
    "#import libraries\n",
    "import numpy as np\n",
    "import pandas as pd\n",
    "pd.set_option('future.no_silent_downcasting', True) #disables the automatic downcasting of data types ()\n",
    "import matplotlib.pyplot as plt\n",
    "import copy\n",
    "import math"
   ]
  },
  {
   "cell_type": "code",
   "execution_count": 14,
   "id": "faf2a36c-add6-4fce-89cd-1372106f51ff",
   "metadata": {},
   "outputs": [],
   "source": [
    "# This class manipulates data from a csv file\n",
    "class ManipulateData:\n",
    "\n",
    "    #initialize file\n",
    "    def __init__(self, file):\n",
    "        self.file = file\n",
    "\n",
    "    #Reads the supplied file and shuffles the data\n",
    "    def filter_data(self):\n",
    "        data = pd.read_csv(self.file).dropna()\n",
    "        data = data.sample(frac = 1, random_state=20) #shuffling and ensuring everytime output is same shuffled data\n",
    "        return data\n",
    "\n",
    "    #Filter with respect to column passed as an argument \n",
    "    def seperate_columns(self, data, columns):\n",
    "        data = data[columns]\n",
    "        return data\n",
    "\n",
    "    #splits data to train and test data and returns train and test data as numpy array\n",
    "    #only training percentage is passed as an argument \n",
    "    def split_data(self, data, percent):\n",
    "        data_array = data.to_numpy()\n",
    "        train_size = math.floor(len(data_array)*percent) #takes integer as training size\n",
    "        #training and testing data are seperated as two numpy arrays inside tuple\n",
    "        train_data, test_data = data_array[:train_size,:], data_array[train_size:,:] \n",
    "\n",
    "        \n",
    "        train_length = train_data.shape[0]\n",
    "        test_length = test_data.shape[0]\n",
    "        print(f\"total training rows: {train_length}\\ntotal testing rows: {test_length}\")\n",
    "        \n",
    "        return train_data, test_data\n",
    "\n",
    "    #seperate features and target\n",
    "    def seperate_target(self, data):\n",
    "        rows = data.shape[0]\n",
    "        features = []\n",
    "        target = []\n",
    "        for row in range(rows):\n",
    "            features.append(data[row, :-1])\n",
    "            target.append(data[row, -1])\n",
    "        return np.array(features), np.array(target)\n",
    "\n",
    "    # scale features using mean normalization and returns numpy array\n",
    "    def scale_features(self, data):\n",
    "        # calculate mean, minimum, and maximum for each column of the features\n",
    "        feature_mean = np.mean(data, axis=0) #axis 0 refers to the column and axis 1 for row\n",
    "        feature_max = np.max(data, axis=0)\n",
    "        feature_min = np.min(data, axis=0)\n",
    "        feature_std = np.std(data, axis=0)\n",
    "\n",
    "        scaled_data = []\n",
    "\n",
    "        # normalize and append each rows of features to new array \n",
    "        for row in data:\n",
    "            scaled_row = []\n",
    "            for i in range(len(row)):\n",
    "                # scaled_value = (row[i] - feature_min[i]) / (feature_mean[i] - feature_min[i])\n",
    "                scaled_value = (row[i] - feature_min[i]) / (feature_std[i])\n",
    "                scaled_row.append(scaled_value)\n",
    "            scaled_data.append(scaled_row)\n",
    "\n",
    "        return np.array(scaled_data)\n",
    "    "
   ]
  },
  {
   "cell_type": "code",
   "execution_count": 15,
   "id": "f53e1dfb-d9f7-4fe7-b2e2-16e6298027b1",
   "metadata": {},
   "outputs": [],
   "source": [
    "# Read file and clear out null values\n",
    "file = 'Cancer_dataset1.csv'\n",
    "\n",
    "df = ManipulateData(file)\n",
    "data = df.filter_data() #cleans out rows containing null values and shuffles the data\n",
    "data['outcome'] = data['outcome'].replace({'R': 1, 'N': 0}).astype(float)"
   ]
  },
  {
   "cell_type": "code",
   "execution_count": 16,
   "id": "c86656ce-80a0-44d1-97f9-7064ce7eebf6",
   "metadata": {},
   "outputs": [
    {
     "name": "stdout",
     "output_type": "stream",
     "text": [
      "total training rows: 145\n",
      "total testing rows: 37\n"
     ]
    }
   ],
   "source": [
    "#first seperate columns by passing column names and after required columns are obtained from the data we split 80% of data as training data\n",
    "#index of the columns defined will be the same index on the array as well\n",
    "columns = ['mean_area', 'outcome'] #the final column will be the target value when you use 'seperate_target(data) method\n",
    "sprtd_data = df.seperate_columns(data, columns)\n",
    "\n",
    "split_percent = 0.8\n",
    "train_data, test_data = df.split_data(sprtd_data, split_percent)\n",
    "\n",
    "# now seperate features and target as two seperate arrays with each features index corresponding to target index\n",
    "features, target = df.seperate_target(train_data)\n",
    "scaled_features = df.scale_features(features)\n",
    "\n",
    "test_features, test_target = df.seperate_target(test_data)"
   ]
  },
  {
   "cell_type": "code",
   "execution_count": 17,
   "id": "28e65b11-7424-4dfc-99c9-bd8a9509b297",
   "metadata": {},
   "outputs": [
    {
     "data": {
      "image/png": "[encoded data removed]",
      "text/plain": [
       "<Figure size 1000x200 with 1 Axes>"
      ]
     },
     "metadata": {},
     "output_type": "display_data"
    }
   ],
   "source": [
    "plt.figure(figsize=(10,2))\n",
    "plt.scatter(features[target==0], target[target==0], color='red', label=\"N (No recurrence) / 0\")\n",
    "plt.scatter(features[target==1], target[target==1], color='blue', label=\"R (Recurrence) / 1\")\n",
    "# plt.scatter(scaled_features[target==0], target[target==0], color='red', label=\"N (No recurrence) / 0\")\n",
    "# plt.scatter(scaled_features[target==1], target[target==1], color='blue', label=\"R (Recurrence) / 1\")\n",
    "plt.xlabel('mean_area')\n",
    "plt.ylabel('outcome')\n",
    "plt.show()"
   ]
  },
  {
   "cell_type": "code",
   "execution_count": 18,
   "id": "977774ff-405d-4157-9f6e-d2b626b98d75",
   "metadata": {},
   "outputs": [],
   "source": [
    "class LL:\n",
    "    # calculating cost using vectorization('np.dot()')\n",
    "    def calculate_cost(self, features, target, th0, thj):\n",
    "            \n",
    "        m = features.shape[0]\n",
    "\n",
    "        # use vectorization to find dot product of two matrices (features and weights)\n",
    "        y_predict = th0 + np.dot(features, thj)\n",
    "\n",
    "        sigmoid = 1/(1+np.exp(-y_predict))\n",
    "        # print(f'sigmoid = {sigmoid}')\n",
    "        \n",
    "        cost = (target * np.log(sigmoid) + ((1-target) * np.log(1 - sigmoid)))\n",
    "        \n",
    "        total_cost = np.sum(cost) * (-1/m)\n",
    "    \n",
    "        return total_cost"
   ]
  },
  {
   "cell_type": "code",
   "execution_count": 57,
   "id": "0df80476-3e00-45bc-908f-bd7df0b51b03",
   "metadata": {},
   "outputs": [],
   "source": [
    "class LogisticRegression(LL):\n",
    "    def __init__(self, alpha, iterations):\n",
    "        super().__init__()\n",
    "        self.alpha = alpha\n",
    "        self.iterations = iterations\n",
    "\n",
    "    #this method computes gradient using vectorization and utilizes the broadcasting power of numpy\n",
    "    def calculate_gradient(self, features, target, th0, thj):\n",
    "        m = features.shape[0]\n",
    "        \n",
    "        y_predict = th0 + np.dot(features, thj) #get numpy array containing predicted y of each row\n",
    "        y_predict = y_predict.astype(np.float64)\n",
    "        sigmoid = 1 / (1 + np.exp(-y_predict)) # (broadcasting is used to do matrix manipulation)\n",
    "        \n",
    "        difference  = sigmoid - target\n",
    "        gradient_th0 = np.sum(difference) / m #difference is an array of differences so we need to sum all and divide my number of rows\n",
    "\n",
    "        #vectorization used to find dot product and gets matrix with the same shape of weight\n",
    "        #broadcasting is utilized on difference and m\n",
    "        gradient_thj = np.dot(difference, features) / m \n",
    "\n",
    "        return gradient_th0, gradient_thj\n",
    "\n",
    "    # utilizes gradient descent formula  to get optimal weights and bias\n",
    "    def gradient_descent(self, features, target, th0, thj):\n",
    "\n",
    "        j_history = []\n",
    "        \n",
    "        for i in range(self.iterations):\n",
    "            gradients = self.calculate_gradient(features, target, th0, thj)\n",
    "            \n",
    "            th0 = th0 - (self.alpha * gradients[0])\n",
    "            thj = thj - (self.alpha * gradients[1])\n",
    "\n",
    "            # check cost over iteration\n",
    "            if i%10 == 0 or i == self.iterations - 1:\n",
    "                current_cost = self.calculate_cost(features, target, th0, thj)\n",
    "                j_history.append([i, current_cost])\n",
    "                # print(f\"Iteration: {i}\\t Cost: {current_cost:.3f}\\t Bias: {th0:.3f}\\t Weight: {np.round(thj, 3)}\")\n",
    "                # print(f\"Iteration: {i}\\t Cost: {current_cost}\\t Bias: {th0}\\t Weight: {thj}\")\n",
    "        \n",
    "        return th0, thj, j_history\n",
    "\n",
    "    def predict(self, features, th0, thj, threshold):\n",
    "        # use vectorization to find dot product of two matrices (features and weights)\n",
    "        y_predict = th0 + np.dot(features, thj)\n",
    "\n",
    "        sigmoid = 1/(1+np.exp(-y_predict))\n",
    "        print(sigmoid)\n",
    "\n",
    "        predictions = []\n",
    "        # predictions[sigmoid<threshold] = 0\n",
    "        for i in range(len(sigmoid)):\n",
    "            if sigmoid[i] >= threshold:\n",
    "                predictions.append(1)\n",
    "            else:\n",
    "                predictions.append(0)\n",
    "        return np.array(predictions)"
   ]
  },
  {
   "cell_type": "code",
   "execution_count": 49,
   "id": "729674e7-181b-475d-953c-6cd1c7ab5b7b",
   "metadata": {},
   "outputs": [
    {
     "ename": "_IncompleteInputError",
     "evalue": "incomplete input (3307034802.py, line 2)",
     "output_type": "error",
     "traceback": [
      "\u001b[1;36m  Cell \u001b[1;32mIn[49], line 2\u001b[1;36m\u001b[0m\n\u001b[1;33m    \u001b[0m\n\u001b[1;37m    ^\u001b[0m\n\u001b[1;31m_IncompleteInputError\u001b[0m\u001b[1;31m:\u001b[0m incomplete input\n"
     ]
    }
   ],
   "source": [
    "class Evaluation:\n",
    "    "
   ]
  },
  {
   "cell_type": "code",
   "execution_count": 50,
   "id": "2b05d524-4f24-4cfc-bcef-3d0aabfa7ba9",
   "metadata": {},
   "outputs": [
    {
     "name": "stdout",
     "output_type": "stream",
     "text": [
      "\n",
      "\n",
      "final bias = -1.7927698427655445 \t final weights = [0.33167834]\n"
     ]
    }
   ],
   "source": [
    "#initialize weight, biases and hyperparameters\n",
    "bias = 0\n",
    "weights = np.zeros(features.shape[1])\n",
    "learning_rate = 0.01\n",
    "iterations = 10000\n",
    "\n",
    "#create object for linear regression class\n",
    "fit = LogisticRegression(learning_rate, iterations)\n",
    "# fit.calculate_gradient(np.array([[1],[2],[3],[4],[5],[6],[7],]), np.array([0,0,0,1,1,1,1]), bias, weights)\n",
    "\n",
    "\n",
    "# compute final weights and biases using gradient descent\n",
    "prdtd_bias, prdtd_weights, costs = fit.gradient_descent(scaled_features, target, bias, weights)\n",
    "print(f\"\\n\\nfinal bias = {prdtd_bias} \\t final weights = {prdtd_weights}\")\n",
    "\n",
    "# fit.calculate_gradient(features, target, -5.000000145436743e-05, [-0.04881])\n"
   ]
  },
  {
   "cell_type": "code",
   "execution_count": 51,
   "id": "642f3eab-76f9-4057-94cd-d01decffc790",
   "metadata": {},
   "outputs": [
    {
     "data": {
      "image/png": "[encoded data removed]",
      "text/plain": [
       "<Figure size 640x480 with 1 Axes>"
      ]
     },
     "metadata": {},
     "output_type": "display_data"
    }
   ],
   "source": [
    "iterations = [iteration[0] for iteration in costs]\n",
    "J = [j[1] for j in costs]\n",
    "\n",
    "\n",
    "plt.plot(iterations, J, color='red', linestyle='-', label='Cost Function')\n",
    "plt.xlabel('Iterations')\n",
    "plt.ylabel('Cost')\n",
    "plt.legend()\n",
    "plt.show()"
   ]
  },
  {
   "cell_type": "code",
   "execution_count": 61,
   "id": "c7418040-fc98-4f50-90fd-06e8d62e85fc",
   "metadata": {},
   "outputs": [
    {
     "data": {
      "image/png": "[encoded data removed]",
      "text/plain": [
       "<Figure size 600x300 with 1 Axes>"
      ]
     },
     "metadata": {},
     "output_type": "display_data"
    },
    {
     "data": {
      "text/plain": [
       "[array([0.14273347]),\n",
       " array([0.14499914]),\n",
       " array([0.14729459]),\n",
       " array([0.14962002]),\n",
       " array([0.15197562]),\n",
       " array([0.15436158]),\n",
       " array([0.15677807]),\n",
       " array([0.15922527]),\n",
       " array([0.16170334]),\n",
       " array([0.16421244]),\n",
       " array([0.16675273]),\n",
       " array([0.16932436]),\n",
       " array([0.17192747]),\n",
       " array([0.17456218]),\n",
       " array([0.17722863]),\n",
       " array([0.17992693]),\n",
       " array([0.18265719]),\n",
       " array([0.18541951]),\n",
       " array([0.18821399]),\n",
       " array([0.19104071]),\n",
       " array([0.19389974]),\n",
       " array([0.19679115]),\n",
       " array([0.199715]),\n",
       " array([0.20267132]),\n",
       " array([0.20566016]),\n",
       " array([0.20868154]),\n",
       " array([0.21173547]),\n",
       " array([0.21482197]),\n",
       " array([0.21794102]),\n",
       " array([0.2210926]),\n",
       " array([0.22427669]),\n",
       " array([0.22749323]),\n",
       " array([0.23074219]),\n",
       " array([0.2340235]),\n",
       " array([0.23733707]),\n",
       " array([0.24068281]),\n",
       " array([0.24406062]),\n",
       " array([0.2474704]),\n",
       " array([0.25091199]),\n",
       " array([0.25438527]),\n",
       " array([0.25789008]),\n",
       " array([0.26142624]),\n",
       " array([0.26499358]),\n",
       " array([0.26859189]),\n",
       " array([0.27222097]),\n",
       " array([0.27588059]),\n",
       " array([0.2795705]),\n",
       " array([0.28329046]),\n",
       " array([0.2870402]),\n",
       " array([0.29081943]),\n",
       " array([0.29462786]),\n",
       " array([0.29846517]),\n",
       " array([0.30233104]),\n",
       " array([0.30622512]),\n",
       " array([0.31014706]),\n",
       " array([0.31409649]),\n",
       " array([0.31807303]),\n",
       " array([0.32207627]),\n",
       " array([0.3261058]),\n",
       " array([0.33016119]),\n",
       " array([0.33424199]),\n",
       " array([0.33834777]),\n",
       " array([0.34247803]),\n",
       " array([0.34663229]),\n",
       " array([0.35081006]),\n",
       " array([0.35501083]),\n",
       " array([0.35923406]),\n",
       " array([0.36347922]),\n",
       " array([0.36774575]),\n",
       " array([0.37203309]),\n",
       " array([0.37634067]),\n",
       " array([0.38066789]),\n",
       " array([0.38501414]),\n",
       " array([0.38937882]),\n",
       " array([0.3937613]),\n",
       " array([0.39816094]),\n",
       " array([0.4025771]),\n",
       " array([0.40700911]),\n",
       " array([0.41145631]),\n",
       " array([0.41591802]),\n",
       " array([0.42039355]),\n",
       " array([0.42488221]),\n",
       " array([0.42938329]),\n",
       " array([0.43389609]),\n",
       " array([0.43841986]),\n",
       " array([0.4429539]),\n",
       " array([0.44749747]),\n",
       " array([0.45204982]),\n",
       " array([0.4566102]),\n",
       " array([0.46117787]),\n",
       " array([0.46575207]),\n",
       " array([0.47033204]),\n",
       " array([0.47491701]),\n",
       " array([0.47950621]),\n",
       " array([0.48409887]),\n",
       " array([0.48869422]),\n",
       " array([0.49329149]),\n",
       " array([0.49788988]),\n",
       " array([0.50248864]),\n",
       " array([0.50708697])]"
      ]
     },
     "execution_count": 61,
     "metadata": {},
     "output_type": "execute_result"
    }
   ],
   "source": [
    "def sigmoid(feature, bias, weight):\n",
    "    z = bias + (feature * weight)\n",
    "    sig = 1 / (1 + np.exp(-z))\n",
    "\n",
    "    return sig\n",
    "    \n",
    "\n",
    "# X = [x[0] for x in features]\n",
    "X = np.linspace(min(scaled_features), max(scaled_features), 100)\n",
    "# X = np.linspace(min(features), max(features), 100)\n",
    "\n",
    "Y = [sigmoid(x, prdtd_bias, prdtd_weights[0]) for x in X]\n",
    "# Y = [sigmoid(x, -2.21805736, 0.00102888) for x in X]\n",
    "\n",
    "\n",
    "plt.figure(figsize=(6,3))\n",
    "# plt.scatter(features[target==0], target[target==0], color='red', label=\"N (No recurrence) / 0\")\n",
    "# plt.scatter(features[target==1], target[target==1], color='blue', label=\"R (Recurrence) / 1\")\n",
    "plt.scatter(scaled_features[target==0], target[target==0], color='red', label=\"N (No recurrence) / 0\")\n",
    "plt.scatter(scaled_features[target==1], target[target==1], color='blue', label=\"R (Recurrence) / 1\")\n",
    "\n",
    "plt.plot(X, Y, color='black', linestyle='-', label='sigmoid')\n",
    "\n",
    "plt.xlabel('mean_area')\n",
    "plt.ylabel('outcome')\n",
    "plt.legend()\n",
    "plt.show()\n",
    "Y"
   ]
  },
  {
   "cell_type": "code",
   "execution_count": 62,
   "id": "1bde0212-111d-441f-994a-d0dda0b35735",
   "metadata": {},
   "outputs": [
    {
     "name": "stdout",
     "output_type": "stream",
     "text": [
      "[0.28385606 0.26711408 0.270526   0.22172971 0.28641146 0.19992402\n",
      " 0.19852399 0.32909353 0.18831046 0.18132262 0.16818502 0.18813364\n",
      " 0.22206272 0.31332597 0.17020484 0.23470414 0.2987859  0.16438819\n",
      " 0.26711408 0.31582118 0.19296766 0.27878678 0.373892   0.19646063\n",
      " 0.17918517 0.16850906 0.3540269  0.17316707 0.22662715 0.19815598\n",
      " 0.25520649 0.27033573 0.25926008 0.16027077 0.19349385 0.33101269\n",
      " 0.20243467 0.28111954 0.27473316 0.23574504 0.26037284 0.15868079\n",
      " 0.16067352 0.22786339 0.15231163 0.27762487 0.20341737 0.2622343\n",
      " 0.18993726 0.14385815 0.2304356  0.22333143 0.29017094 0.18937406\n",
      " 0.17265677 0.19417197 0.37028699 0.18904858 0.17267055 0.19212803\n",
      " 0.22507591 0.18123674 0.28170458 0.21182507 0.23783642 0.18150879\n",
      " 0.25192106 0.16380615 0.24029244 0.21640104 0.22118102 0.24082098\n",
      " 0.29536245 0.22353222 0.33015903 0.2162539  0.20415281 0.30631494\n",
      " 0.50708697 0.1746078  0.18492905 0.26354242 0.18235562 0.28977383\n",
      " 0.44939896 0.270526   0.1657972  0.31270384 0.22334816 0.21782714\n",
      " 0.15972641 0.20310502 0.24276575 0.22666096 0.39097207 0.29858389\n",
      " 0.17170832 0.1894481  0.23245979 0.26485472 0.19783439 0.19624758\n",
      " 0.19967732 0.1796395  0.27859292 0.24920472 0.27339011 0.15113252\n",
      " 0.19229274 0.17775708 0.234133   0.26298129 0.25410823 0.27646594\n",
      " 0.18429032 0.23239097 0.14273347 0.37819118 0.17951163 0.28444455\n",
      " 0.20730441 0.30857363 0.26037284 0.30101316 0.20476456 0.20509453\n",
      " 0.17471902 0.24758434 0.232873   0.26579463 0.20227902 0.18776567\n",
      " 0.16767297 0.29096611 0.27936886 0.29375932 0.24472116 0.17356787\n",
      " 0.17105096 0.24902433 0.26617119 0.20374573 0.37366627 0.18998178\n",
      " 0.33896126]\n"
     ]
    },
    {
     "data": {
      "text/plain": [
       "array([0, 0, 0, 0, 0, 0, 0, 0, 0, 0, 0, 0, 0, 0, 0, 0, 0, 0, 0, 0, 0, 0,\n",
       "       0, 0, 0, 0, 0, 0, 0, 0, 0, 0, 0, 0, 0, 0, 0, 0, 0, 0, 0, 0, 0, 0,\n",
       "       0, 0, 0, 0, 0, 0, 0, 0, 0, 0, 0, 0, 0, 0, 0, 0, 0, 0, 0, 0, 0, 0,\n",
       "       0, 0, 0, 0, 0, 0, 0, 0, 0, 0, 0, 0, 1, 0, 0, 0, 0, 0, 0, 0, 0, 0,\n",
       "       0, 0, 0, 0, 0, 0, 0, 0, 0, 0, 0, 0, 0, 0, 0, 0, 0, 0, 0, 0, 0, 0,\n",
       "       0, 0, 0, 0, 0, 0, 0, 0, 0, 0, 0, 0, 0, 0, 0, 0, 0, 0, 0, 0, 0, 0,\n",
       "       0, 0, 0, 0, 0, 0, 0, 0, 0, 0, 0, 0, 0])"
      ]
     },
     "execution_count": 62,
     "metadata": {},
     "output_type": "execute_result"
    }
   ],
   "source": [
    "threshold = 0.5\n",
    "prediction = fit.predict(scaled_features, prdtd_bias, prdtd_weights, threshold)\n",
    "prediction"
   ]
  },
  {
   "cell_type": "code",
   "execution_count": null,
   "id": "04111624-03fc-43ab-9d05-d09fc126a700",
   "metadata": {},
   "outputs": [],
   "source": []
  },
  {
   "cell_type": "code",
   "execution_count": null,
   "id": "d0d3ac51-41a5-42a3-9d10-6c6359379211",
   "metadata": {},
   "outputs": [],
   "source": []
  },
  {
   "cell_type": "code",
   "execution_count": null,
   "id": "fc140afd-29f8-4303-ad3c-8eb848aef215",
   "metadata": {},
   "outputs": [],
   "source": [
    "# x_train = np.array([[0.], [1], [2], [3], [4], [5]])\n",
    "# y_train = np.array([0,  0, 0, 1, 1, 1])\n",
    "\n",
    "# plt.figure(figsize=(6,3))\n",
    "# plt.scatter(x_train[y_train==0], y_train[y_train==0], color='red', label=\"N (No recurrence) / 0\")\n",
    "# plt.scatter(x_train[y_train==1], y_train[y_train==1], color='blue', label=\"R (Recurrence) / 1\")"
   ]
  },
  {
   "cell_type": "code",
   "execution_count": null,
   "id": "c38886f9-e7be-46da-9f7e-56fa4b721c44",
   "metadata": {},
   "outputs": [],
   "source": [
    "# bias_t = 0.1\n",
    "# weights_t = np.zeros(features.shape[1])\n",
    "# learning_rate_t = 0.1\n",
    "# iterations_t = 500\n",
    "\n",
    "# fit_t = LogisticRegression(learning_rate_t, iterations_t)\n",
    "\n",
    "# x_train = np.array([[1], [2], [3], [4], [5], [6], [7], [30], [40], [11], [12], [13], [14], [15], [16], [17], [18], [19], [20]])\n",
    "# y_train = np.array([0, 0, 0, 0, 0, 0, 0, 1, 1, 1, 1, 1, 1, 1, 1, 1, 1, 1, 1])\n",
    "\n",
    "# prdtd_bias_t, prdtd_weights_t, costs_t = fit_t.gradient_descent(x_train, y_train, bias_t, [0.2])#weights_t)\n",
    "# print(f\"\\n\\nfinal bias = {prdtd_bias_t} \\t final weights = {prdtd_weights_t}\")"
   ]
  },
  {
   "cell_type": "code",
   "execution_count": null,
   "id": "d4d5ff13-df13-4b1f-96e5-b155767e84e7",
   "metadata": {},
   "outputs": [],
   "source": [
    "# def sigmoid_t(feature, bias, weight):\n",
    "#     z = bias + (feature * weight)\n",
    "#     sig = 1 / (1 + np.exp(-z))\n",
    "\n",
    "#     return sig\n",
    "    \n",
    "\n",
    "# # X_t = [x[0] for x in x_train]\n",
    "# X_t = np.linspace(min(x_train), max(x_train), 100)\n",
    "# Y_t = [sigmoid_t(x, prdtd_bias_t, prdtd_weights_t[0]) for x in X_t]\n",
    "\n",
    "# plt.figure(figsize=(6,3))\n",
    "# plt.scatter(x_train[y_train==0], y_train[y_train==0], color='red', label=\"N (No recurrence) / 0\")\n",
    "# plt.scatter(x_train[y_train==1], y_train[y_train==1], color='blue', label=\"R (Recurrence) / 1\")\n",
    "\n",
    "# plt.plot(X_t, Y_t, color='pink', linestyle='-', label='sigmoid')\n",
    "\n",
    "# plt.xlabel('mean_area')\n",
    "# plt.ylabel('outcome')\n",
    "# plt.legend()\n",
    "# plt.show()"
   ]
  },
  {
   "cell_type": "code",
   "execution_count": null,
   "id": "97c1ab4f-e9c0-4135-930b-478cbb90de01",
   "metadata": {},
   "outputs": [],
   "source": []
  },
  {
   "cell_type": "code",
   "execution_count": null,
   "id": "c40c050a-9e9f-4f37-b491-97379c4c5fe1",
   "metadata": {},
   "outputs": [],
   "source": []
  },
  {
   "cell_type": "code",
   "execution_count": null,
   "id": "9b5b69bb-6067-4045-be25-cc008494bd26",
   "metadata": {},
   "outputs": [],
   "source": []
  },
  {
   "cell_type": "code",
   "execution_count": null,
   "id": "52995e29-72b1-43b6-af11-73a47da58891",
   "metadata": {},
   "outputs": [],
   "source": [
    "rand = np.random.rand(3,2)\n",
    "rand"
   ]
  },
  {
   "cell_type": "code",
   "execution_count": null,
   "id": "09e3d854-e883-400b-b7e4-3d135e6670db",
   "metadata": {},
   "outputs": [],
   "source": [
    "np.exp(-rand)"
   ]
  },
  {
   "cell_type": "code",
   "execution_count": null,
   "id": "82e5ad00-9391-479f-ac57-e8eb70ae63bd",
   "metadata": {},
   "outputs": [],
   "source": [
    "a = [0.0, 0.0, 0.0, 0.0, 0.0, 0.0, 0.0, 0.0, 0.0, 0.0, 0.0, 0.0, 0.0, 0.0, 0.0, 0.0, 0.0, 0.0,\n",
    " 0.0, 0.0, 0.0, 0.0, 0.0, 0.0, 0.0, 0.0, 0.0, 0.0, 0.0, 0.0, 0.0, 0.0, 0.0, 0.0, 0.0, 0.0,\n",
    " 0.0, 0.0, 0.0, 0.0, 0.0, 0.0, 0.0, 0.0, 0.0, 0.0, 0.0, 0.0, 0.0, 0.0, 0.0, 0.0, 0.0, 0.0,\n",
    " 0.0, 0.0, 0.0, 0.0, 0.0, 0.0, 0.0, 0.0, 0.0, 0.0, 0.0, 0.0, 0.0, 0.0, 0.0, 0.0, 0.0, 0.0,\n",
    " 0.0, 0.0, 0.0, 0.0, 0.0, 0.0, 0.0, 0.0, 0.0, 0.0, 0.0, 0.0, 0.0, 0.0, 0.0, 0.0, 0.0, 0.0,\n",
    " 0.0, 0.0, 0.0, 0.0, 0.0, 0.0, 0.0, 0.0, 0.0, 0.0, 0.0, 0.0, 0.0, 0.0, 0.0, 0.0, 0.0, 0.0,\n",
    " 0.0, 0.0, 0.0, 0.0, 0.0, 0.0, 0.0, 0.0, 0.0, 0.0, 0.0, 0.0, 0.0, 0.0, 0.0, 0.0, 0.0, 0.0,\n",
    " 0.0, 0.0, 0.0, 0.0, 0.0, 0.0, 0.0, 0.0, 0.0, 0.0, 0.0, 0.0, 0.0, 0.0, 0.0, 0.0, 0.0, 0.0,\n",
    " 0.0]\n",
    "a = np.array(a)\n",
    "print(a)\n",
    "print(type(a))\n",
    "print(type(a[0]))\n",
    "np.exp(-a)"
   ]
  },
  {
   "cell_type": "code",
   "execution_count": null,
   "id": "7874b117-6e44-4479-bb4f-3e67bda1ede0",
   "metadata": {},
   "outputs": [],
   "source": []
  }
 ],
 "metadata": {
  "kernelspec": {
   "display_name": "Python 3 (ipykernel)",
   "language": "python",
   "name": "python3"
  },
  "language_info": {
   "codemirror_mode": {
    "name": "ipython",
    "version": 3
   },
   "file_extension": ".py",
   "mimetype": "text/x-python",
   "name": "python",
   "nbconvert_exporter": "python",
   "pygments_lexer": "ipython3",
   "version": "3.13.2"
  }
 },
 "nbformat": 4,
 "nbformat_minor": 5
}
